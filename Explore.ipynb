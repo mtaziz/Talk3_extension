{
 "cells": [
  {
   "cell_type": "code",
   "execution_count": 41,
   "metadata": {},
   "outputs": [],
   "source": [
    "import pandas\n",
    "import itertools as it\n",
    "import string\n",
    "from collections import Counter\n",
    "import json\n",
    "from gensim.models import Word2Vec\n",
    "import nltk"
   ]
  },
  {
   "cell_type": "code",
   "execution_count": 3,
   "metadata": {
    "collapsed": true
   },
   "outputs": [],
   "source": [
    "punctuation_translator = str.maketrans(\n",
    "            string.punctuation, \" \" * len(string.punctuation))"
   ]
  },
  {
   "cell_type": "code",
   "execution_count": 4,
   "metadata": {
    "collapsed": true
   },
   "outputs": [],
   "source": [
    "with open('data/stopwords.txt') as fh:\n",
    "    stopwords = set(fh.read().splitlines())"
   ]
  },
  {
   "cell_type": "code",
   "execution_count": 5,
   "metadata": {
    "collapsed": true
   },
   "outputs": [],
   "source": [
    "def normalise(text):\n",
    "    return \" \".join(\n",
    "        text.translate(punctuation_translator).replace(\"\\n\", \" \").lower().split()\n",
    "    )"
   ]
  },
  {
   "cell_type": "code",
   "execution_count": 6,
   "metadata": {
    "collapsed": true
   },
   "outputs": [],
   "source": [
    "def tokenise(text):\n",
    "    return [t.strip() for t in text.strip().split(\" \")]"
   ]
  },
  {
   "cell_type": "code",
   "execution_count": 7,
   "metadata": {
    "collapsed": true
   },
   "outputs": [],
   "source": [
    "def parse_treatment_definitons(definion_file):\n",
    "    treatment_set = set()\n",
    "    treatment_mapping = {}\n",
    "    max_length = 1\n",
    "    for line in definion_file:\n",
    "        line = line.strip()\n",
    "        treatments = line.split(',')\n",
    "        name = treatments[0]\n",
    "        for treatment in treatments:\n",
    "            treatment = tuple(tokenise(normalise(treatment)))\n",
    "            max_length = max(len(treatment), max_length)\n",
    "            treatment_set.add(treatment)\n",
    "            treatment_mapping[treatment] = name\n",
    "    return treatment_set, treatment_mapping, max_length"
   ]
  },
  {
   "cell_type": "code",
   "execution_count": 8,
   "metadata": {
    "collapsed": true
   },
   "outputs": [],
   "source": [
    "def window_sliding(iterable, n):\n",
    "    gens = (\n",
    "        it.chain(it.repeat(None, n - 1 - i), iterable, it.repeat(None, i))\n",
    "        for i, gen in enumerate(it.tee(iterable, n)))\n",
    "    return zip(*gens)\n",
    "\n",
    "def find_treatments(text):\n",
    "    tokens = tokenise(normalise(text))\n",
    "    found_treatments = []\n",
    "    for x in range(max_treatment_length, 0, -1):\n",
    "        for window in window_sliding(tokens, x):\n",
    "            if tuple(window) in treatment_set:\n",
    "                found_treatments.append(treatment_mapping[tuple(window)])\n",
    "    return found_treatments or None"
   ]
  },
  {
   "cell_type": "code",
   "execution_count": 9,
   "metadata": {
    "collapsed": true
   },
   "outputs": [],
   "source": [
    "def filter_stopwords(text):\n",
    "    tokens = tokenise(normalise(text))\n",
    "    return [t for t in tokens if len(t) > 2 and t not in stopwords]"
   ]
  },
  {
   "cell_type": "code",
   "execution_count": 10,
   "metadata": {
    "collapsed": true
   },
   "outputs": [],
   "source": [
    "with open('data/merged_tweets.jsonl', 'r') as fh:\n",
    "    df = pandas.read_json(fh.read(), lines=True, convert_dates=True)"
   ]
  },
  {
   "cell_type": "code",
   "execution_count": 11,
   "metadata": {
    "collapsed": true
   },
   "outputs": [],
   "source": [
    "df = df.loc[(df['retweeted_status'].isnull()) & (df['lang'] == \"en\")]"
   ]
  },
  {
   "cell_type": "code",
   "execution_count": 12,
   "metadata": {
    "collapsed": true
   },
   "outputs": [],
   "source": [
    "df = df.loc[(df.created_at.dt.weekofyear > 48) | (df.created_at.dt.weekofyear < 3)]"
   ]
  },
  {
   "cell_type": "code",
   "execution_count": 13,
   "metadata": {
    "collapsed": true
   },
   "outputs": [],
   "source": [
    "df[\"extended_tweet\"] = df[\"extended_tweet\"].apply(lambda x: x[\"full_text\"]  if type(x) == dict else x )"
   ]
  },
  {
   "cell_type": "code",
   "execution_count": 14,
   "metadata": {
    "collapsed": true
   },
   "outputs": [],
   "source": [
    "df['text'] = df['extended_tweet'].combine_first(df[\"text\"])"
   ]
  },
  {
   "cell_type": "code",
   "execution_count": 15,
   "metadata": {
    "collapsed": true
   },
   "outputs": [],
   "source": [
    "df[\"text\"] = df[\"text\"].apply(lambda x: x.replace(\"\\n\", \" \"))"
   ]
  },
  {
   "cell_type": "code",
   "execution_count": 16,
   "metadata": {
    "collapsed": true
   },
   "outputs": [],
   "source": [
    "df[\"user_name\"] = df[\"user\"].apply(lambda x: x[\"screen_name\"])"
   ]
  },
  {
   "cell_type": "code",
   "execution_count": 19,
   "metadata": {},
   "outputs": [
    {
     "data": {
      "text/html": [
       "<div>\n",
       "<style>\n",
       "    .dataframe thead tr:only-child th {\n",
       "        text-align: right;\n",
       "    }\n",
       "\n",
       "    .dataframe thead th {\n",
       "        text-align: left;\n",
       "    }\n",
       "\n",
       "    .dataframe tbody tr th {\n",
       "        vertical-align: top;\n",
       "    }\n",
       "</style>\n",
       "<table border=\"1\" class=\"dataframe\">\n",
       "  <thead>\n",
       "    <tr style=\"text-align: right;\">\n",
       "      <th></th>\n",
       "      <th>id</th>\n",
       "      <th>created_at</th>\n",
       "      <th>text</th>\n",
       "      <th>retweet_count</th>\n",
       "      <th>user_name</th>\n",
       "    </tr>\n",
       "  </thead>\n",
       "  <tbody>\n",
       "    <tr>\n",
       "      <th>11631</th>\n",
       "      <td>937471728049147906</td>\n",
       "      <td>2017-12-04 00:00:52</td>\n",
       "      <td>@germanBruin I watched a Ted talk about a blac...</td>\n",
       "      <td>0</td>\n",
       "      <td>adrenalun</td>\n",
       "    </tr>\n",
       "    <tr>\n",
       "      <th>11636</th>\n",
       "      <td>937473962463973378</td>\n",
       "      <td>2017-12-04 00:09:44</td>\n",
       "      <td>😻😻😻Neither will I or loads of others. If THIS ...</td>\n",
       "      <td>0</td>\n",
       "      <td>Lunarteddy</td>\n",
       "    </tr>\n",
       "    <tr>\n",
       "      <th>11645</th>\n",
       "      <td>937476840893173761</td>\n",
       "      <td>2017-12-04 00:21:11</td>\n",
       "      <td>#Tinnitus can be perceived in one or both ears...</td>\n",
       "      <td>0</td>\n",
       "      <td>TinnitusErase</td>\n",
       "    </tr>\n",
       "    <tr>\n",
       "      <th>11647</th>\n",
       "      <td>937477817561837568</td>\n",
       "      <td>2017-12-04 00:25:03</td>\n",
       "      <td>And now i just sit in silence...  Just kidding...</td>\n",
       "      <td>0</td>\n",
       "      <td>Tannerguest1</td>\n",
       "    </tr>\n",
       "    <tr>\n",
       "      <th>11648</th>\n",
       "      <td>937477865712603136</td>\n",
       "      <td>2017-12-04 00:25:15</td>\n",
       "      <td>Have a weird half tinnitus half ears want to p...</td>\n",
       "      <td>0</td>\n",
       "      <td>FourQ</td>\n",
       "    </tr>\n",
       "  </tbody>\n",
       "</table>\n",
       "</div>"
      ],
      "text/plain": [
       "                       id          created_at  \\\n",
       "11631  937471728049147906 2017-12-04 00:00:52   \n",
       "11636  937473962463973378 2017-12-04 00:09:44   \n",
       "11645  937476840893173761 2017-12-04 00:21:11   \n",
       "11647  937477817561837568 2017-12-04 00:25:03   \n",
       "11648  937477865712603136 2017-12-04 00:25:15   \n",
       "\n",
       "                                                    text  retweet_count  \\\n",
       "11631  @germanBruin I watched a Ted talk about a blac...              0   \n",
       "11636  😻😻😻Neither will I or loads of others. If THIS ...              0   \n",
       "11645  #Tinnitus can be perceived in one or both ears...              0   \n",
       "11647  And now i just sit in silence...  Just kidding...              0   \n",
       "11648  Have a weird half tinnitus half ears want to p...              0   \n",
       "\n",
       "           user_name  \n",
       "11631      adrenalun  \n",
       "11636     Lunarteddy  \n",
       "11645  TinnitusErase  \n",
       "11647   Tannerguest1  \n",
       "11648          FourQ  "
      ]
     },
     "execution_count": 19,
     "metadata": {},
     "output_type": "execute_result"
    }
   ],
   "source": [
    "df = df[[\"id\", \"created_at\", \"text\", \"retweet_count\", \"user_name\"]]\n",
    "df.head(5)"
   ]
  },
  {
   "cell_type": "code",
   "execution_count": 20,
   "metadata": {
    "collapsed": true
   },
   "outputs": [],
   "source": [
    "df = df.sort_values(\"created_at\")"
   ]
  },
  {
   "cell_type": "code",
   "execution_count": 21,
   "metadata": {
    "collapsed": true
   },
   "outputs": [],
   "source": [
    "treatment_set, treatment_mapping, max_treatment_length = parse_treatment_definitons(open(\"data/treatment_definitons.txt\", 'r'))"
   ]
  },
  {
   "cell_type": "code",
   "execution_count": 22,
   "metadata": {
    "collapsed": true
   },
   "outputs": [],
   "source": [
    "df['treatments'] = df['text'].apply(find_treatments)"
   ]
  },
  {
   "cell_type": "code",
   "execution_count": 23,
   "metadata": {
    "collapsed": true
   },
   "outputs": [],
   "source": [
    "df['filtered_tokens'] = df['text'].apply(filter_stopwords)"
   ]
  },
  {
   "cell_type": "code",
   "execution_count": 46,
   "metadata": {},
   "outputs": [
    {
     "name": "stdout",
     "output_type": "stream",
     "text": [
      "11649    [It, 's, like, my, tinnitus, is, on, steroids,...\n",
      "11691    [Still, Searching, For, A, Tinnitus, Cure, ?, ...\n",
      "11701    [Hi, John, ,, On, one, show, you, were, mentio...\n",
      "11706    [I, added, a, video, to, a, @, YouTube, playli...\n",
      "11798    [Still, Searching, For, A, Tinnitus, Cure, ?, ...\n",
      "11803    [CBD, Oil, and, Meniere, ’, s, Disease, ,, Ver...\n",
      "11830    [@, redheadbelinda, @, DoctorKarl, Tinnitus, i...\n",
      "11913    [TINNITUS, SOUND, THERAPY, DAY, 1, :, https, :...\n",
      "12026    [Check, out, this, #, album, ..., #, 6, :, Tin...\n",
      "12027    [Check, out, this, #, album, ..., #, 6, :, Tin...\n",
      "12032    [Check, out, this, #, album, ..., #, 6, :, Tin...\n",
      "12043    [Take, 15, min, ., out, of, day, one, and, lis...\n",
      "12056    [#, Album, #, TopMusicUK, #, 4, :, Tinnitus, S...\n",
      "12067    [Amazon, UK, Hot, News, :, #, 6, :, Tinnitus, ...\n",
      "12115    [Hearing, nerves, slowly, disappear, in, peopl...\n",
      "12148    [@, Stuartq, @, lisadebruine, How, strange, .,...\n",
      "12222    [Just, a, few, of, the, things, I, found, offe...\n",
      "12239    [Study, shows, potential, of, neurofeedback, i...\n",
      "12240    [Study, shows, potential, of, neurofeedback, i...\n",
      "12248    [I, added, a, video, to, a, @, YouTube, playli...\n",
      "12276    [Came, up, with, another, cure, for, tinnitus,...\n",
      "12281    [there, also, found, i, found, a, cure, for, t...\n",
      "12283    [demii, writes, new, song, for, my, cure, for,...\n",
      "12285    [Looking, for, investors, for, my, laboratory,...\n",
      "12328    [Acupuncture, &, amp, ;, Ginger, Moxibustion, ...\n",
      "12389    [Did, you, know, that, #, TMS, Therapy, may, p...\n",
      "12432    [@, MrMarsRed, This, is, scam, spam, -, like, ...\n",
      "12503    [The, use, of, sound, therapy, by, either, hea...\n",
      "12512    [TINNITUS, SOUND, THERAPY, DAY, 2, (, 9500, HZ...\n",
      "12519    [I️, will, be, so, happy, when, they, find, a,...\n",
      "                               ...                        \n",
      "33149    [Bimodal, Stimulation, May, Hold, Promise, As,...\n",
      "33152    [I, liked, a, @, YouTube, video, https, :, //t...\n",
      "33173    [Bimodal, Stimulation, May, Hold, Promise, As,...\n",
      "33185    [University, of, Michigan, researchers, may, h...\n",
      "33191    [Bimodal, Stimulation, May, Hold, Promise, As,...\n",
      "33192    [Bimodal, Stimulation, May, Hold, Promise, As,...\n",
      "33215    [Bimodal, Stimulation, May, Hold, Promise, As,...\n",
      "33236    [Bimodal, Stimulation, May, Hold, Promise, As,...\n",
      "33256    [Bimodal, Stimulation, May, Hold, Promise, As,...\n",
      "33302    [Here, ,, we, have, high, levels, of, expertis...\n",
      "33306    [Bimodal, Stimulation, May, Hold, Promise, As,...\n",
      "33310    [One, of, the, most, effective, forms, of, the...\n",
      "33330    [Bimodal, Stimulation, May, Hold, Promise, As,...\n",
      "33336    [Most, Powerful, Tinnitus, Sound, Therapy, htt...\n",
      "33350    [Bimodal, Stimulation, May, Hold, Promise, As,...\n",
      "33360    [Bimodal, Stimulation, May, Hold, Promise, As,...\n",
      "33369    [Study, reveals, 'resetting, ', brain, cells, ...\n",
      "33381    [Bimodal, Stimulation, May, Hold, Promise, As,...\n",
      "33394    [Actually, cure, my, tinnitus, ,, and, MAYBE, ...\n",
      "33414    [Magnesium, ,, zinc, ,, Ginkgo, biloba, ,, hom...\n",
      "33416    [Tinnitus, Cure, -, Hearing, Loss, Treatment, ...\n",
      "33418    [On, this, morning, 's, #, MidMorningShow, We,...\n",
      "33420    [Posting, this, again, because, this, is, the,...\n",
      "33428    [Procedures, such, as, acupuncture, ,, cranio-...\n",
      "33429    [We, have, many, people, call, wondering, if, ...\n",
      "33434    [Tinnitus, Cure, ,, Health, &, amp, ;, Fitness...\n",
      "33442    [Tinnitus, Cure, ,, Health, &, amp, ;, Fitness...\n",
      "33445    [Tinnitus, Cure, -, Hearing, Loss, Treatment, ...\n",
      "33455    [Bimodal, Stimulation, May, Hold, Promise, As,...\n",
      "33461    [@, scifri, @, msenese, You, may, have, missed...\n",
      "Name: text, Length: 1295, dtype: object\n",
      "Word2Vec(vocab=4459, size=100, alpha=0.025)\n",
      "['It', \"'s\", 'like', 'my', 'tinnitus', 'is', 'on', 'steroids', '.', 'Every', 'slight', 'movement', 'Had', 'it', 'a', 'couple', 'of', 'days', ',', 'if', 'anyone', 'can', 'shed', 'light', 'please', 'do', 'Still', 'Searching', 'For', 'A', 'Tinnitus', 'Cure', '?', 'Try', 'These', 'Ideas', '!', 'https', ':', '//t.co/njjWyQJmtA', '#', 'Hi', 'John', 'On', 'one', 'show', 'you', 'were', 'mentioning', 'cure', 'for', 're-iterate', 'what', 'help', 'should', 'seek', 'Thanks', 'I', 'added', 'video', 'to', '@', 'YouTube', 'playlist', '//t.co/3H9YLUbTCx', 'MOST', 'POWERFUL', 'TINNITUS', 'SOUND', 'THERAPY', '1', 'Hr|Tinnitus', 'Treatment', 'Ringing', 'in', '-', '//t.co/HaA2LJoPuX', 'CBD', 'Oil', 'and', 'Meniere', '’', 's', 'Disease', 'Vertigo', '//t.co/kQYjye5az3', 'redheadbelinda', 'DoctorKarl', 'symptom', '(', 'essentially', 'when', 'hear', 'noise', 'that', 'other', 'people', 'not', ')', 'diagnosis', 'There', 'are', 'different', 'types', 'Yes', 'affect', 'ear', 'only', 'depends', 'upon', 'the', 'underlying', 'causr', 'DAY', '//t.co/fJF2VDk9CZ', 'via', 'Check', 'out', 'this', 'album', '...', '6', 'Sound', 'Therapy', 'Relaxing', 'Sounds', 'Of', 'Nature', 'As', 'Home', 'Remedies', 'Vol', '3', '//t.co/rRowDhPoT8', 'music', '//t.co/U589vBIqSt', '//t.co/JgPJuiAKuQ', '//t.co/LYO0Yi3Veo', '//t.co/NNDIDKk1qj', '//t.co/adByFtuUqV', 'Take', '15', 'min', 'day', 'listen', 'tinnitusmeditation', 'CD', '//t.co/oeuvtMb4wD', 'Album', 'TopMusicUK', '4', 'Masker', 'White', 'Noise', '|…', '//t.co/vnDyorE5LN', 'TopNewAge', 'Amazon', 'Britain', 'UK', 'Hot', 'News', 'Rem', '//t.co/Ngx0voFyTe', 'Hearing', 'nerves', 'slowly', 'disappear', 'struggling', 'with', 'more', 'than', 'four', 'years', 'The', 'treatment', 'such', 'patients', 'particularly', 'difficult', 'Polish', 'specialists', 'working', 'having', 'been', 'subsidized', 'by', 'EU', 'Horizon', '2020', 'program', '//t.co/m9FqXwjmRG', 'Stuartq', 'lisadebruine', 'How', 'strange', 'Will', 'have', 'test', 'theory', 'husband', 'You', 'might', 'be', 'onto', 'Just', 'few', 'things', 'found', 'offers', 'work', 'email', 'morning', 'Super', 'strong', 'boners', 'More', 'hair', 'pack', 'abs', 'WHAT', 'TIME', 'TO', 'BE', 'ALIVE', 'Study', 'shows', 'potential', 'neurofeedback', '|', 'scoopit', '//t.co/RywpSNhPjd', \"MARTIN'S.IMMIAFRIKA\", '//t.co/sDF2P1pyqm', '//t.co/DgALLVMtS2', 'Acupuncture', 'new', 'method', 'Came', 'up', 'another', 'me', 'an', 'buddy', 'from', 'wal-mart', 'Botox', 'injection', 'threw', 'cranium.just', 'above', 'cochlea', 'there', 'also', 'i', 'Looking', 'investors', 'laboratory', '//t.co/pJ8fZZ6cKF', 'demii', 'writes', 'song', 'Not', 'am', 'inventor', '2017.', 'patient', '&', 'amp', ';', 'Ginger', 'Moxibustion', 'Effective', '//t.co/ny8r7xZPAE', 'Did', 'know', 'TMS', 'may', 'possibly', 'treat', 'OCD', 'Parkinson', 'PTSD', 'BiPolar', 'Migraines', 'Whew', 'MrMarsRed', 'This', 'scam', 'spam', 'herpes', 'fix', 'perform', 'ALL', 'NIGHT', 'LONG', 'kinda', 'Unsubscribe', 'probably', 'too', 'use', 'sound', 'therapy', 'either', 'hearing', 'aids', 'or', 'maskers', 'brain', 'ignore', 'specific', 'frequency', '2', '9500', 'HZ', '//t.co/xSh93dalJc', 'I️', 'will', 'so', 'happy', 'they', 'find', 'EAR', 'Here', 'Remedy', 'Improve', 'Your', '//t.co/Zy7WT2dvNT', 'liked', '//t.co/CynMsZO0K0', 'homeopathic', 'medicine', 'explain', 'retraining', 'TRT', 'form', 'habituation', 'designed', 'who', 'suffer', 'Woken', \"'ve\", 'even', 'had', 'eardrums', 'blasted', 'smithereens', 'JustinHawkins', 'at', 'thedarkness', 'gig', 'yet', \"'ll\", 'kill', 'later', 'GLiveGuildford', 'Loss', '//t.co/FKpPDalI0n', '[', 'Update', ']', '//t.co/GmyLZt2XUw', 'Buy', 'Safety', 'Equipment', '//t.co/dk4EIKeKKo', '//t.co/uKmAAkd8dw', '//t.co/df6ZULaKvb', '//t.co/PdAVEE1oav', '//t.co/ZoHWBRtDTU', '//t.co/jcIw0xyezV', '//t.co/5TdAQ4lckf', '//t.co/O1257UkxwN', '//t.co/8rH7D7B8Ab', 'sponsoredpost', '//t.co/UFOQ7hi2sq', '//t.co/i5lT4muqNe', 'Natural', 'remedies', 'Herbal', 'Medicine', '//t.co/ugB0xLCG3v', 'really', 'think', 't', 'right', 'Via', '//t.co/mnARCCRU8Z', 'Healthsaveblog', 'HealthSaveBlog', 'Health', 'Hearing_Loss', '//t.co/QbE1UXvJGg', 'study', '//t.co/TCCK5LMx70', 'content', '//t.co/3hcxOpBZaw', '//t.co/vOakGhBPPw', \"'m\", 'enjoying', 'all', 'these', 'but', 'er', 'how', 'some', 'much', 'hope', 'invent', 'That', '100', '%', 'natural', \"'Bull\", 'Vomit', \"'\", 'now', 'available', 'NHS', 'Moo', 'Sick', 'ears', '1PUN', 'largest', 'US', 'clinical', 'trial', 'its', 'kind', 'funded', 'Veterans', 'Affairs', 'reports', 'researchers', 'transcranial', 'magnetic', 'stimulation', 'significantly', 'improved', 'symptoms', 'half', 'participants', '--', '//t.co/86De674LhK', 'Dublin', 'Come', 'see', 'us', '//t.co/EzDO2gU4yT', 'One', 'most', 'effective', 'forms', 'called', 'Leicester', '//t.co/1MwHQ0seqH', \"J'aime\", 'une', 'vidéo', '``', 'Relieve', 'Ears', 'Blizzard', 'Snowstorm', 'Sleep', \"''\", 'à', '//t.co/vXfflzPmVU', 'Ears|Tinnitus', '//t.co/aIoS5jgvr7', 'MASKING', 'SOUNDS', 'RAIN', 'FOR', 'RELIEF', 'HOUR', 'OF', '//t.co/zek0ti5tIc', 'next', 'task', 'heal', 'GOOD', 'VIBES', '/', '//t.co/Mnt1VYObNk', 'JUNGLE', 'STRESS', '//t.co/oXbqEdV672', 'doctor', 'said', 'asked', 'was', \"n't\", 'any', \"'re\", 'going', 'live', '//t.co/iueHpgRmjZ', 'Magnesium', 'zinc', 'Ginkgo', 'biloba', 'B', 'vitamins', 'sometimes', 'prescribed', 'relieving', 'When', 'offer', 'valuable', 'resources', 'your', 'clinic', 'thrive', 'Discover', 'Audpeeps', '//t.co/YVGlvRXtY7', '//t.co/1oA9y2zHZC', 'Product', 'Conservatively', 'At', '5', '//t.co/fX7LA1eoCs', 'Procedures', 'as', 'acupuncture', 'cranio-sacral', 'magnets', 'hyperbaric', 'oxygen', 'hypnosis', 'occasionally', 'used', 'Cognitive', 'behavioral', 'CBT', 'counseling', 'treating', 'emotional', 'reaction', 'Dental', 'bite', 'realignment', 'relieve', 'TMJ', 'pain', 'associated', 'DIGITAL', 'RIC', 'HEARING', 'AID', 'LEFT', 'programs', 'PROGRAMMABLE', 'MASKER', '//t.co/MPNsX5kZro', '//t.co/LVeDJqV9w9', 'Binaural', 'Beats', 'Waves', 'Isochronic', 'tone', '//t.co/Uy3hbAsh5C', 'Complete', 'Relief', '//t.co/xsvsgRYGff', 'Blue', 'relief', 'Transcranial', 'Magnetic', 'Stimulation', 'Repetitive', 'rTMS', 'both', 'influence', 'response', '//t.co/5PKuchWDST', 'horrible', 'consolation', 'masking', 'guy', 'heavy', 'breathing', 'office', '//t.co/0ntKSk00P6', 'mid-frequency', 'ringing', 'near', 'Superdome', 'no', 'else', 'AM', 'GOING', 'NUTS', 'Someone', 'validate', 'nola', 'cbd', 'charlegoldsmith', 'Lolita', 'Liberty', 'lake', 'WA', 'need', 'AubriTanningBed', 'MisterCockLuv', 'aubriluv', 'Holymak31', 'amazon', '👂👂🎧Tinnitus', 'Medicomat-36', 'Symptoms', 'Causes', 'Thera', '//t.co/bSZiCpdhGn', '16', 'CHANNEL', '//t.co/WmV9CBAFlV', '//t.co/ITDBD1vUoH', '–', 'New', 'Age', 'Music', 'Stop', 'Masking', 'Headache', 'Relaxation', 'Fall', 'Asleep', 'in…', '//t.co/KNW6zerlS4', 'Insomnia', 'Sleeplessness', 'Aid', '//t.co/CFXd3Xd4Ha', 'tramite', 'disease', 'variety', 'options', 'consider', 'receiving', 'vertigo', 'Biloba', 'Leaf', '3oz', 'NtWt', 'MEMORY', 'BRAIN', 'HEALTH', 'NOT', 'FROM', 'CHINA', '//t.co/e1dU21BQ3z', 'Ear', '//t.co/7C4meHIhYr', 'Is', 'way', 'HAMARU', 'Brain', 'Games', 'Training', '//t.co/Fgi50hVDBv', 'In', '30', 'Minutes', 'Healing', 'Frequency', 'MindDelt', '$', '34.95', 'Arches', 'Solution', 'Now', 'Max', '26/7', '…', 'counselling', 'bring', '//t.co/CXqBm6pUfo', 'Parent', 'Guide', 'Quiz', 'Time', '//t.co/LxSHOGsxaF', 'DecibelTx', 'announced', 'strategic', 'collaboration', 'regeneron', 'develop', 'drug', 'treatments', 'HearingLoss', 'Pharma', '//t.co/lNk6TlCI8I', 'Help', 'People', 'Their', '//t.co/6UJO7eB5vm', '//t.co/cQpGmHTZiq', '//t.co/gvYT89WB28', 'Read', 'Llewellyn', 'Book', 'Lucid', 'Dreaming', '//t.co/DHeDtITI7D', 'Ri…', 'Lizzzie', '//t.co/uDqgvAaMim', 'forâ', '¦', 'From…', 'Ugh', 'My', 'has', 'bad', 'about', 'month', 'pretty', 'point', 'where', 'anything', 'rid', 'Currently', 'researching', 'increase', 'GABA', 'levels', 'research', 'saying', 'low', 'lead', 'subjective', 'often', 'read', 'curable', 'partly', 'true', 'fact', 'which', 'occurs', 'due', 'number', 'possible', 'causes', 'health2', 'hearingloss', '//t.co/U3GOYLbt8b', '//t.co/843mej1EMl', 'Starting', 'cognitive', 'hyperacusis', 'weeks', 'LymeDisease', 'Lyme', '//t.co/rd8XsCxpZS', 'Gostei', 'de', 'um', 'vídeo', '//t.co/rKxKeoXLdO☔Rain', 'Hitting', 'Campervan', 'Roof', 'Window', 'Inside', 'year', '2017', 'we', '*not*', 'genuinely', 'wonder', 'complete', 'silence', 'must', 'soannoying', 'makeitstop', '18000', '25000HZ', 'EXTREMLY', 'HIGH', 'FREQUENCY', '//t.co/P7pn8nF4uL', 'Niche', 'Marketing', 'To', 'Video', 'Letter', 'Converts', '72', '//t.co/LE2WvbrgJ1', 'Proven', 'Tips', 'Personal', 'Naturally', 'Without', 'Side', 'Effects', '//t.co/ZE36BNeBQg', '6000-6250', 'hz', '//t.co/wbxdw9vyTS', '//t.co/PHuF3x1ZaZ', 'Very', 'Powerful', 'Mins', 'TheWildThingsUK', 'Sure', 'thing', 'Cheers', 'Any', 'secret', 'esoteric', 'magical', 'constant', 'X😞', '//t.co/RNBOV5tSmE', '//t.co/fWwRKgjU1a', 'Before', 'commit', 'following', 'overcome', 'realize', 'itself', 'medical', 'status', '//t.co/57w2ZwIpgq', \"'d\", 'never', 'heard', 'Tommy', 'Wiseau', 'before', 'today', 'last', 'two', 'hours', 'seen', 'his', 'name', 'three', 'times', 'creeps', 'Almost', 'expecting', 'get', 'him', \"y'know\", 'miracle', 'just', 'started', '//t.co/ApIarjjjoT', '//t.co/1ElqUlNalX', 'kwilli1046', 'TheBeebs169', 'wonderful', 'eventually', 'because', 'want', 'quit', 'Dear', 'genetic', 'scientists', 'Please', 'DNA', 'height', 'deficiency', 'osteoporosis', 'rheumatoid', 'arthritis', 'shrinking', 'im', 'Ouch', 'Oh..', 'beg', 'Notched', '//t.co/c4vpoOkZP6', '//t.co/WARa8OJX72', '//t.co/4W1E2WyRRz', 'Why', 'Homeopathic', 'Good', '//t.co/qratf0Iftc', '//t.co/fP5Jpt1Yo6', '//t.co/bHH0aPNwi1', '//t.co/vC0ORg3MCN', 'TMS_Neuro', 'Oh', 'figured', 'would', 'application', 'Where', 'specifically', 'target', 'DreamIn4Words', '👂', 'Me', 'gustó', 'un', '//t.co/lSos5T72oQ', '9', 'Hours', 'Extremely', 'Irwin', 'driving', 'nuts', 'tokerware', 'cannabis', 'StanleyCup', 'NHL', 'NBA', 'NFL', 'EqualPay', 'design', 'retweet', '//t.co/6P4fKVgLlH', 'latest', 'Receptive', 'Daily', '//t.co/2xTEjykhN0', 'jpfoster529', 'JClectic', 'fordogtrainers', 'healthcare', 'Wellbutrin', 'fucking', 'worst', 'Vision', 'issues', 'insomnia', 'invasive', 'suicidal', 'thoughts…', 'noticed', 'positive', 'effects', 'Forgot', 'take', 'dose', 'went', 'thru', 'withdrawal', 'hadda', 'cancel', 'plans', 'trynna', 'sleep', 'roaring', 'Fibromyalgia', 'Syndrome', 'FMS', 'strike', 'estimated', 'pct', 'universe', 'yoga', 'Proof', 'demonstrate', 'capable', '90', 'percentage', 'general', 'public', 'fibromyalgia', 'gain', 'sour', 'completing', 'prescription', 'cope', 'their', 'token', 'additional', 'fair', 'say', 'indeed', 'Legion', 'given', 'life', 'back', 'Former', 'Marine', 'Commando', 'Harris', 'Tatakis', 'tells', 'revolutionary', 'he', 'received', 'through', 'Fund', '//t.co/oWaFj5gf9Y', '//t.co/x41iExyJN9', '//t.co/uEepUx8NsG', 'Buzzing', '//t.co/evsjPbMB8N', 'Our', 'NewSound', 'TI-100-LT', 'Lite', 'In-Ear', 'control', 'helps', 'drown', 'snoring', 'partner', 'TinnitusMasker', 'SleepAid', 'StayProtected', 'EarPlugSuperStore', '//t.co/vYu9oUBplU', '//t.co/htLbW6g0x1', 'DEC', 'KINDLE', 'FREE', 'horror', 'Dr.', 'Bell', 'asks', 'audiologist', 'colleague', 'Stapes', 'evaluations', '3218', 'Severation', 'She', 'does', 'won', 'turn', 'well', 'Subjects', 'Or', 'He', 'believe', 'got', 'fired', '//t.co/KnDGoa508R', '//t.co/GpoG6Ji5eb', 'ON', 'Circus', 'magician', 'Hacker', 'Auribus', 'Omniatologist', 'Best', 'researcher', 'ever', 'ordered', 'trophy', 'himself', '//t.co/2gOdGVb3Yd', '//t.co/0OBiAoTYKp', '//t.co/vscDqIgmQW', '//t.co/TxZWvCN9Bh', 'Tinnitusmd', 'Cb', '//t.co/t1DUnRkMQ3', '||', 'AND', 'SLEEP', '//t.co/QJMU4wM630', '//t.co/zCDjzz4Agz', '//t.co/f6zExzFjWN', '//t.co/d3tOjCCFEL', '-Tinnitus', '//t.co/6OBfUyh1cw', '8Hr', '5-TINNITUS', 'SOUNDS-TINNITUS', 'Business', '//t.co/KwH8hoyHqu', 'mix', 'pressure', 'temperature', 'fluctuation', 'night', 'Do', 'source', 'melatonin', 'something', 'paying', 'attention', 'If', 'diagnosed', 'left', 'shocked', 'very', 'products', 'exist', '//t.co/SGsldpmtDs', '//t.co/DNVmmoi5L1', 'ad', 'Ring', 'Symptoms-EXPIRED', 'EXPIRED', 'Details', '//t.co/gHi5JpN1kb', 'endorphins', 'monamines', 'proposed', 'Use', 'TENS', 'China', 'several', 'thousand', 'alleviate', 'depression', 'hay', 'fever', 'asthma', 'psoriasis', 'dermatitis', 'common', '3/16', '😴', '//t.co/8VH3j5Ug40', '7', 'CURE', 'BINAURAL', 'BEAT', '//t.co/9ZTKy8fD4H', 'Tripp', 'International', 'Compares', 'Levo', 'System', 'Traditional', 'many', '50', 'million', 'Americans', 'according', 'American', 'Association', 'ATA', 'health', 'condition', 'commonly', 'known', '“', '//t.co/Ce0uPwLFKg', '//t.co/Ltg79jGgi8', 'danawhite', 'wish', 'u', 'best', 'battling', 'earproblems', 'fellow', 'menière', 'sufferer', 'understand', 'neverending', 'torture', 'Never', 'knew', 'recommend', 'oil', 'tremendously', 'relax', '//t.co/YjeFozO6Jk', 'Waterfall', '//t.co/5udZWNUtSI', '2hrs', 'leaves', 'relaxation', '//t.co/k2wnGEgkey', 'beats', '//t.co/wmVjD30yFR', '//t.co/mr0Z6mhwOz', 'Instant', '//t.co/wAfh0ieHLw', '//t.co/MCoKKs5ubt', '//t.co/dmjSWKxiLs', '//t.co/SYNDWUAz1l', 'Therapy-Ringing', '//t.co/kJ56H0PvzB', 'Most', 'Si', 'great', 'whiplash', 'occipital', 'headache', 'neck', 'earache', 'dizziness', 'convulsion', 'sore', 'throat', 'sweat', 'mania', 'anxiety', 'AcupunctureRocks', '//t.co/xZhOKb0Ran', '//t.co/U1LIk04vf7', '//t.co/DDjwAUM2XF', 'Over', 'Extreme', '//t.co/tf4bz9DOYS', 'After', 'officially', 'gone', 'into', 'debt', '💚', '//t.co/xNBUGo6nUK', 'Hopefully', 'slipknot', 'recent', 'AJA', 'compared', 'Otoharmonics', 'traditional', 'Click', 'here', 'results', '//t.co/BB9NEgvYjB', '//t.co/9iChGnURSg', '//t.co/AqXUx0r3l7', '14', '24', 'getting', 'nerve', 'And', 'feel', 'louder', 'lately', '😰', '//t.co/mymSO32FgX', 'our', 'articles', '//t.co/9gG6JPp8kt', 'wtb', 'McReynoldsJoe', 'bfkelleher', 'Well', 'Joe', 'sincerely', 'go', 'ghonorreah', 'tinitus', 'prevents', 'falling', 'asleep', 'addicted', 'ambien', 'vomit', 'woman', 'then', 'refuses', 'marry', 'HonestUniverse', 'Medical', 'personal', 'experience', 'works', 'areas', 'eg', 'lower', 'OTOH', 'metaphor', 'why', 'match', 'Western', 'model', 'Insertion', 'needles', 'electrical', 'neural', 'conditions', '//t.co/MFSvUsqFIQ', '8', 'HEALING', '//t.co/kJNNyRtSZe', 'bestestguyontwi', 'Regeneron', 'REGN', 'Decibel', 'Therapeutics', 'Announce', 'Pact', '//t.co/yOHsHqQQn8', '//t.co/jjNXWIMxcV', '//t.co/xlKKb1IHaA', 'cures', '//t.co/rYaBVYkO5K', '//t.co/qk4R0aS8IX', 'followers', 'tried', 'wasting', 'time', 'tradheart', '18_Ggw88', '5/6', 'yrs', 'Dr', 'hospital', 'says', 'real', 'Implants', 'guarantee', 'managed', 'although', 'loud', 'large', 'meetings', 'still', 'cause', 'problem', '//t.co/z0o9OFDF00', 'willing', 'pay', 'billions', 'pounds', 'person', 'manages', 'come', 'Preferably', 'tonight', 'poss', '//t.co/bXa80FNgId', 'proven', 'soundtherapy', '//t.co/CpC6UmP7a6', '//t.co/eq9fIqwjlE', 'SuccessGals', '//t.co/N0m0Za56cg', 'starloz', '//t.co/oszh1lMix6', 'PRESS', 'RELEASE', 'Australian', 'company', 'provides', 'Sufferers', '//t.co/bG0MQKo3Wa', '//t.co/BW5NoD4UFi', '//t.co/URdbvSGu5E', 'MEDI-STATION', '//t.co/ypdi3UGN4l', 'Morning', '4:30-5am', 'Recommender', 'Diagnosis', '12/13/2017', 'mxmnml', '//t.co/rUQAfx9dR6', 'Desensitisation', 'Therapy™', 'bespoke', 'range', 'therapies', 'selected', 'meet', 'requirements', '//t.co/znEQHLejb9', '//t.co/sAjo3YUSfL', 'cindyrelish', 'co_rapunzel4', 'donohue_rebekah', 'Gallaecian', 'SelfImposedXile', 'isa_m_ferreira', 'TarynStanford', 'csu_scientist', 'donna_Siciliana', 'CharismaMolotov', 'LsExaminedLife', 'TammyLynne89', 'Oooooo_Donna', 'Pfizer', 'lots', 'trouble', 'Neurontin', 'pushed', 'drs', 'loads', 'off-label', 'uses', 'reps', 'lied', 'med', 'worked', 'etc', 'made', 'co', 'ppl', 'sick', '//t.co/nfnzI7DAQh', '//t.co/HiPgeTAFPK', '//t.co/gtnE2mcGnU', '//t.co/3Y2jEGKO0d', 'What', 'psychosis', 'once', 'voices', 'espionage', 'unit', 'using', 'voice', 'skull', 'machine', 'publish', 'technology', 'kateharnisch', 'ajkallas', 'ginko', 'bronchitis', 'exam', 'involving', 'dietary', 'supplements😂', 'thanks', 'helping', 'study😂😂😘😘', 'Neurofeedback', 'Shows', 'Promise', 'Functional', 'MRI', 'fMRI', 'demonstrates', 'training', '//t.co/mtVhzAgKDF', '//t.co/sVwVdWgaKF', 'Jacksonville', 'ENT', 'website', 'information', '//t.co/fr5oe1yDAz', 'disorder', 'association', 'aged-related', 'loss', 'unusual', 'noises', 'unwanted', 'sensatio…', '//t.co/SMvavi72Qu', '//t.co/4grzSH0wSy', 'Dizzy', 'blood', 'sugar', 'cold', 'empty', 'stomach', 'touch', 'solution', 'Extra', 'espresso', 'latte', 'bread', 'snack', 'swimming', 'hour', 'Totally', 'Reasonable', 'Whirled', 'Dec', 'Antidepressants', 'making', 'worse', 'Menieres', 'impact', 'Jen', '//t.co/2bYRdhZaRU', 'laser', 'gt', 'Light', 'Voice', '//t.co/XirOFYHkNw', 'VOCAL', 'TONING', 'ENERGY', 'ALIGNMENT', 'HEAL', 'Toning', 'ancient', 'powerful', 'healing', '//t.co/YBtxQfTeou', '//t.co/AbH4p6HcNk', 'BEST', 'EVER', '10', 'STORM', 'NATURE', '//t.co/mS6Y1yXvxC', 'cranial', 'osteopathy', 'sufferers', '//t.co/fAMMHF4WWT', '//t.co/xVrfSRW3c2', 'Native', 'Indian', 'cheap', 'pocket', 'radio', 'save', 'listening', 'white', 'i.e', 'static', 'felt', 'good', 'Until', 'Acamprosate', 'unnecessary', 'LOUD', 'Retweet', '//t.co/nWwNBRxLqp', 'jakebrodes', 'seriously', 'enough', 'easy', 'avoid', 'All', 'took', 'concert', 'ago', 'boom', 'forever', 'Mile', 'High', 'comprehensive', 'audiology', 'services', 'tests', 'protection', 'Learn', '//t.co/FWLvHDM6dk', 'sensitive', 'dentist', 'hard', 'taken', 'chick', 'teeth-cleaning', 'literally', 'polished', 'mouth', '\\U0001f928😠☹️Very', 'inconsiderate', 'harsh', 'Plus', 'aweful', 'blame', 'cleaning', 'Sending', 'blanket', 'question', 'again', 'realizing', 'exists', '..what', 'deal', 'especially', 'bedtime', 'So', 'prescribe', 'antidepressants', '👍🏻', '//t.co/JvKOWMKlH2', 'Binaura', 'Brainwaves', '//t.co/46daKZpS8D', 'Fitness', '//t.co/Ll4hdNZ8LS', 'battle', 'journey', 'healthier', '//t.co/JOA8ui6OrH', '//t.co/SHWFiq0ZGy', 'try', 'Reddit', 'Blissful', 'Thinking', '//t.co/u1ihIb7xks', 'Pineal', 'Gland', 'Rife', '//t.co/m6KBXKgnx2', '//t.co/3wRb5CN9n9', '//t.co/bniiOdo1wR', 'Song', 'TopMusicGermany', 'Solutions', 'Remove', 'Removal', 'Ambient', 'for…', '//t.co/bvhcStjzjY', 'iTunes', 'Deutschland', '//t.co/mJyWbwmq62', '//t.co/t1DUnRCnHB', '//t.co/8d6lVxALpr', '//t.co/tTq8FJAkbI', 'actually', 'crack', 'head', 'open', 'wifi', 'ca', 'masker', 'Ca', 'world', 'side', 'doc', 'Guess', 'already', 'problems', 'while', '👌🏻', '//t.co/kjWhf9Rl0k', 'dealing', 'same', 'related', 'sinuses', 'drives', 'stops', 'Prednisone', 'makes', 'big', 'difference', 'less', 'swollen', 'clear', 'headed', 'access', 'part', 'gets', 'blocked', 'off', '//t.co/rJ6TWgmpIv', 'BillyKennyMusic', 'Longevity', 'man', 'leftyguitar1', 'oakgiraffes', '4everTachyon', 'jimbobbriggs', 'effectively', 'fighting', 'Have', 'See', 'helped', 'veteran', 'Royal', 'Marines', '//t.co/YIRY2IqFkA', '//t.co/A2xK3ZXFie', '//t.co/A5Vs9yRjSl', '//t.co/1bRJ9fvSdn', 'behaviors', 'result', 'productive', 'Free', 'appearing', 'Occupational', 'Environmental', 'subjects', 'cell', 'phone', 'raise', 'possibility', 'developing', '71', '//t.co/1s9yxs9d9e', 'Marijuana', 'Miracle', 'Cancer', 'Glaucoma', 'The…', '//t.co/fzDoBKta0r', '//t.co/yExSKdf4Ah', '//t.co/SM6yCUSq15', 'AMENARTPOP', 'Fame', 'til', 'happens', '//t.co/dXWMyejQ9i', '//t.co/YqiJuDzbjX', 'Future', 'outlook', 'Deep', 'Devices', 'Market', 'Global', 'Industry', 'Analysts', 'Know', 'applications', 'deep', 'devices', 'Alzheimers', 'tinnitus…', '//t.co/3dixf24HVH', '//t.co/PvYEP4NoYR', '//t.co/AdpjbFzlUT', '//t.co/KEAnOH3hm2', '//t.co/eLo3tDRqu4', '//t.co/ziNVxJkZ2a', '//t.co/WW7ckclrpW', '//t.co/75V03xiVSi', '//t.co/EtVoA0ICmo', '//t.co/75V03xAxgS', '//t.co/ez2U0Gze8o', 've', 'long', 'annoyed', 'GP', 'Audiologist', 'nothing', 'm', 'badly', 'lifestyle', 'whyme', 'helpme', 'highpitch', 'seems', 'MyMentalHealthIn5Words', 'kuaudiology', 'duh', '😆', 'networking/computers', 'scoffed', 'suggesting', 'download', 'app', 'DO', 'YOU', 'KNOW', 'HOW', 'SCARY', 'THE', 'INTERNET', 'IS', 'Truestory', '//t.co/e76eSmdaDx', 'Excessive', '//t.co/j7DGLVxRKH', '//t.co/EnznpyqEdA', '//t.co/VpPUildD5I', '//t.co/d5yzAE3H1t', '//t.co/6XgGPufdXW', 'RINGING', 'IN', '//t.co/qG94jFUep9', '//t.co/qfX1uVcNhw', 'Hair', 'dryer', 'Phon', 'Campral', 'DM', 'UR', 'vape', 'biz', '//t.co/mjrk7GAvqa', 'Hv', 'taking', 'everyday', 'But', 'away', '😔', 'pchdotcom', 'OMG', 'preventive', 'measures', 'disasters', 'retired', 'tv', 'free', 'Hurricanes', 'downers', '//t.co/53Vkbf0ln2', 'Moderate', 'spat', 'keeping', 'S.O.S', 'Send', 'Ambien/', 'Bourbon', 'AndersonPaak', '🙏🏻', '//t.co/O1danM2cT8', '//t.co/Uw1UsCwe2w', 'Cindy', 'after', 'she', 'face', 'air', 'horn', 'Let', '//t.co/KIqpvSbiNy', 'Review', 'Current', 'Concepts', '//t.co/gxe0CujgS5', '//t.co/KfO9X9Y1fU', 'drops', 'kyhempworks', 'make', 'season', 'Katie', 'wait', 'tell', \"y'all\", 'inflammation', 'greenmedicine', 'legalizeit', 'hemp', 'localfarmers', 'shoplocal', 'advocate', 'cbdoillegalizeit', 'cbdo', '//t.co/KYNg71yGLv', 'GVteam', 'promising', '//t.co/IRzAKgFB9k', 'imaging', 'radiology', 'RSNA17', '//t.co/QKybzMMZym', 'Prevent', 'emdr2', 'emdrtherapist', 'mentalhealth', 'psychologist', '//t.co/oCGTYwQPhR', 'Whyconoclast', 'Yeah', 'landed', 'raging', 'infection', 'months', 'Linked', 'Eustachian', 'Tube', 'Dysfunction', '//t.co/4SVnIx1HGo', 'archerfxx', 'Essential', 'facts', '//t.co/wqcaghbQJ2', '//t.co/xolm3Yy9Al', 'RSNA', '//t.co/V8oXkO97vS', 'True', '//t.co/gM7UQ9wa6h', 'acne', 'aerobicscardio', 'allergies', 'SSRI', 'effect', 'week', 'RevRichardColes', 'across', \"'cure\", 'certainly', 'seemed', 'father-in-law', 'let', 'interested', 'Maybe', 'll', 'finally', '2018', 'NIDCD', 'uncovers', 'clues', 'platinum-based', 'cancer', 'Could', 'Paclitaxel', 'permanent', 'since', 'May', '2015', '//t.co/R2BFtYoizG', 'down', 'Contrary', 'popular', 'belief', 'ARE', 'info', '//t.co/elOHPGABfT', 'Collaborative', 'ppunnoose', 'Gatwick', 'Audiology', 'based', 'SpireGatwick', '//t.co/ciiGMBlPf9', 'write', 'notes', 'paid', 'jobs', 'tomorrow', '12', '2-4', 'reason', '//t.co/KzrkSFEDEH', 'Top', 'Aff', '389K/Mon', 'New…', '//t.co/FLGNk8jmtD', 'App', 'Apk', 'Android/iOS…', '//t.co/EmQzM6PqI3', '//t.co/LPPx4vuAij', '//t.co/KPJX17CeWh', '//t.co/4PdhVwRYPb', 'Conditions', 'Discharges', 'Itching', 'posted', 'group', 'confusing', 'comments', 'realise', 'everyone', 'thought', 'talking', 'posting', 'basically', '//t.co/VBsaUteRki', '//t.co/xfIgyZz3XO', '//t.co/WGRXub3mAi', '//t.co/EJr4TmTir5', '//t.co/2T8Qq3tY5W', '//t.co/yj4jKuC0p2', '//t.co/Mb6v8Fk8A4', 'sold', 'under', 'brand', 'medication', 'along', 'alcohol', 'dependence', 'successfully', 'Wiki', 'SHARE', '..', '//t.co/wb0BprJXIA', '//t.co/mQTjRJufcR', '🎀', 'ladygaga', 'cured', 'summer', 'owe', 'her', 'lot', 'Was', 'testicularcancer', 'apolo_andrea', 'suffering', 'cisplatin', 'Important', 'Unfortunate', '//t.co/952nSo1BiC', '//t.co/sh0PHpRhLa', 'Tinitus', 'Pulsatile', 'Tinn', '//t.co/VFvwDw2laB', 'sponsored', 'done', 'apparently', 'B12', 'maybe', 'drag', 'lazy', 'ass', 'shot', 'unbearable', 'worsen', 'run-up', 'during', 'Christmas', 'MD', 'swinhoejo', 'urging', 'support', '‘', '//t.co/zMZqSZYCCR', '//t.co/pNAimsD2Tw', 'post', '-VIDEO', 'published', '//t.co/EPIK7kkq17', '//t.co/ZJDW08IMGz', 'jowhiley', 'Oticon', 'reducing', 'T', 'give', 'them', 'tfw', 'ur', 'chilled', 'bit', 'stopped', 'tryna', 'vengeance', 'magazine', 'painful', 'Support', '//t.co/RkdtEGEDK4', '//t.co/NPKwdtsU5u', 'MikeHarthorne', 'noise-induced', 'over', 'maximize', 'tolerances', 'Hyperacusis', 'Retraining', 'wrote', 'THREE', 'SECONDS', 'prove', 'wrong', 'ThomasWictor', 'No', 'sentence', 'unsuccessful', '”', 'rounds', 'doctors', 'unhelpful', 'Pain', 'little', 'employs', 'mild', 'broadband', 'sparked', '17', 'severe', 'absolutely', 'caused', '//t.co/wpSHjCih3N', '19', 'key', 'Psychological', 'teaching', 'life-long', 'affliction', 'minute', 'requires', 'placing', 'hands', 'clicking', 'fingers', '//t.co/T3i7fLEYUj', '20', 'imperceptible', 'certain', 'frequencies', 'incredible', 'underwent', 'did', 'story', 'being', 'funds', 'Cure4Cindy.org', '//t.co/xBaEVBMz9L', 'Hahaha', 'buzzing', 'hissing', 'damaged', 'cervical-spine-nerves', 'personally', 'NO', 'magic', 'bullet', 'disciplined', '//t.co/JZDPDVTAQK', 'nsaids', 'knee', 'surgery', 'usually', 'tune', 'Cool', 'ask', 'V.A', 'massive', 'firing', 'guns', 'serving', 'Beirut', '1983/84', 'Typical', 'letting', 'soundscross', 'country', 'auto', 'transport', 'reviews', '//t.co/cSA7ma85s2', '//t.co/LY6fWwLklT', 'Neck-Tinnitus', 'Somatic-type', '//t.co/YLKIsIMTJ1', 'Focused', 'Glasgow', '//t.co/H5JmDXTMbD', 'While', 'management', '//t.co/sjmpHqnMhz', '//t.co/STM5w3YIvH', '//t.co/qX7zNrnUdx', '//t.co/OrpEviLgjK', '☔Rain', 'Clear', 'Blocked_Ears', 'BlockedEars', 'Allergies', 'Antihistamine', 'Deafness', '//t.co/aAnBDdSyJ2', 'betahistine', 'evidence', 'suggests', 'efficacy', 'questionable', 'specialist', 'physician', 'audiovestibular', \"'Tinnitus\", 'avery', 'modern', 'system', 'provide', 'remedy', 'simple', 'wear', 'headphones', 'select', 'list', 'remove', 'focus', 'The_Leaver', 'Gazza41', 'Roblev0', 'hippogriff169', 'sunick51', 'ledbydonkeys', 'David_Vaporium', 'alexsandr_three', 'leonora1', 'GentlemanGeorge', 'Kitchy65', 'Big_Bad_John_4', 'davidericstan', 'jojojoheeley', 'latimeralder', 'katie15price', 'impspa1', 'Grado779', 'bill1303', 'xtremedoda', 'gjsfulham', 'RichardBentall', 'cllrihw', 'jenninemorgan', 'alllibertynews', '1234Giles', 'UKIP_Chigley', 'Mariebe10098426', 'ripley270', 'certual', 'HochstedTX', 'jburton38', 'Daniellemalaur1', 'TheManMurdoch', 'Approch2016', 'Majeh19', 'AndyCavster', 'petemedical', 'itsafrogslife', 'Dai111', 'whyter2708', 'jbwtfruabout', 'PeninsulaPestCo', 'andyjonesKipper', 'Simplex2014', 'WildJayCee', 'viking_tiger', 'RHHassall', 'Lemonyglemony', 'Nick_Nomi', 'vacuum', 'cleaner', 'regulation', 'clearly', 'benefit', 'apart', 'energy', 'risk', '//t.co/FsTbWzjg0L', '//t.co/peMoR6fPIJ', 'gingko', 'golden', 'age', 'showed', 'ginkgo', 'relieved', 'disorientation', 'memory', 'headaches', 'tested', 'Alzheimer', '//t.co/ISuPMoBmo8', '//t.co/Wm3vrVFExt', 'Probably', 'able', '//t.co/n4W5mUuzIJ', 'Can', 'Possible', 'With', 'Hypnosis', '//t.co/OdrPu6TJ9v', '//t.co/XyTQIcF2kN', '//t.co/BuPMVRC7PZ', '//t.co/9FmULCpCWj', '//t.co/CsfQG4IjRv', '//t.co/xh36ZRUu0K', '//t.co/LAz0ukNxDX', '//t.co/guOCn8Qt0J', '//t.co/zfQ9ucq8aK', '//t.co/sqUqeyF12o', '//t.co/u7mLLHtduN', '//t.co/n7jANy16CP', '//t.co/KSZveXKy3k', '//t.co/zgVbN911lK', '//t.co/BrO6a09BUK', '//t.co/qoHzGelg9U', '//t.co/o74jR3rkHQ', '//t.co/NgSPlvDZkX', '//t.co/b3lLSuBLNw', '//t.co/H5KZbEngT2', '//t.co/HTZnyuNLeC', '//t.co/sz588ajuvE', '//t.co/0DEnQJ5coI', '//t.co/1GawZ0LPhQ', '//t.co/zOovAcZ0R8', '//t.co/q2IZze4FaI', '//t.co/tMCT2tbT0o', '//t.co/6ofOq3vhgj', '//t.co/jPh0iFy8Pf', '//t.co/kXKKhDxUXo', 'Finger', 'Drumming', '//t.co/Pqs156ArUk', '//t.co/dpJ8eEpNze', 'Tendrin', 'hmm', '//t.co/EKSbfeMdws', 'desperate', 'put', 'drop', '//t.co/d8VxxU9MSG', '//t.co/v0sKI7L84w', '//t.co/iUCtyls7TX', '//t.co/O0xMcDkxDc', 'Simple', 'Things', 'Reduce', 'Risk', 'Won', 'Need', '//t.co/ETOu96mVTN', 'Truly', 'hoping', '//t.co/JqR7hCom0M', 'newage', 'Big', 'Ocean', 'np', '//t.co/jQmI1djfEE', '//t.co/kmpfUTRbMk', '//t.co/K5bmh1vZRk', 'l', '//t.co/5VfjkuoYjh', 'Nutrition', '//t.co/05DMm828Gf', 'mercola', 'folate', 'astaxanthin', 'magnesium', '//t.co/2RBxOzgD42', 'Nigeria', 'Post', '//t.co/EONMzei5nd', '//t.co/UpkbpttWKu', 'around', 'those', 'Mindfulness', 'Based', 'Chronic', '//t.co/UltzECED1P', 'mbct', 'BestOf2017', 'polio', 'statue', 'injections', 'EvanstonI', 'Some', 'tinnit', 'high', 'pitched', 'could', 'clarification', 'continuous', 'Pear', 'Tree', 'returned', 'St.', 'Augustine', 'Tagaste', 'Ransom', 'Austrians', 'Richard', 'Lionhearted', 'Midnight', 'mass', 'leave', 'homeless', 'transit', 'users', 'votes', 'pres', 'important', 'Obama', '2012', 'VaticanNews', 'Lionheart', 'TessaThompson_x', 'Augustineto', 'james', 't.', 'struckPear', 'NobelPrize', 'invented', 'random', 'Cured', 'colonyofangels', 'noiseCured', 'Audiologists', 'experts', 'management/treatment', 'TinnitusTuesday', '//t.co/ccZsOH0s5Q', '//t.co/nop4Amt2uX', 'THERAPY|Tinnitus', '//t.co/uGSgsPYR96', 'TinnitusDoctors', 'TinnitusCure', 'EarsRinging', '//t.co/kkdHmRt2bo', 'terrible', 'past', 'flu', 'fuck', 'government', 'shits', 'setup', 'drugs', '//t.co/tnTxLXzdms', 'trying', 'reach', 'Charlie', 'Goldsmith', 'first', 'everything', 'Specialist', '//t.co/BUkaJjN5ZV', '//t.co/TdhvaxpVP8', '//t.co/bNOz2QdOdg', '//t.co/jLvpXuIeFF', '//t.co/v4IJzYgNgp', '님이', '공유', 'Startuphangar', '//t.co/2V2Dq4ESdt', 'looking', 'finance', 'blockchain', 'crypto', 'deals', '//t.co/x6xIaT07ff', '6802', '//t.co/GwzRoFkaN4', 'follow', 'sites', 'campral123', 'acamprosate', 'savethelungs1', 'healthylungs1', 'main', 'site', 'scaler17', 'Selling', 'Anything', 'share..', '//t.co/xnSmDVkXLd', 'Thank', 'God', 'frequencytx', 'announces', 'milestone', 'first-in-class', 'progenitorcell', 'activator', 'hearingrestoration', 'PCA', '//t.co/a98tEQtpy1', 'Share..', '//t.co/DoalFmFvvV', 'worsened', 'antidepressant', '//t.co/Bao4pxMtEn', 'mnt', 'Buzzinginears', 'feedback', 'client', 'today..Fully', 'Resolved', 'till', 'date', 'Since', '2010', 'BLESSED', '//t.co/cIKk90QaoP', 'review', 'literature', '2014–2016', '//t.co/6kU7Sdi4XL', 'Psychiatry', '//t.co/hJvP1aEkSR', '//t.co/99HzYCLNTj', '//t.co/e3CgmGa99N', '//t.co/eYvy5xxudi', 'Rain', '//t.co/C1gwZvKKyB', '//t.co/17UddW2VpD', '//t.co/2V2Dq4ngOT', '//t.co/CjBSeEXZQv', '6332', '//t.co/eq0weHkwXP', 'kakurady', 'yeah', 'visible', 'damage', 'timpanic', 'membrane', 'google', \"'how\", 'targets', 'tinnitic', 'retrain', 'audio', '//t.co/BnOxEsWCHq', 'VIDEO-', '//t.co/1lepCbjflN', 'Depression', '//t.co/Pi1uYd0mZZ', 'Useful', '//t.co/eEJ1CfdEZw', '//t.co/AupolMBXfy', 'Sneurofeedback', 'case', 'combatted', 'self-cured', 'means', 'neuroacoustics', '💪💟✨💎💥💯🔒', 'Eco_Yogini', 'EastCoastKnits', 'always', 'mean', 'tensions', 'bout', 'addressing', 'psychological', 'occurred', 'mainly', 'dominant', 'nevertheless', 'ALWAYS', 'VEGAN', 'sucessfully', 'Always', 'vegan', 'CNR', '//t.co/08nYFBlSzG', 'Permanent', '//t.co/KFFaJ6QxES', 'minor', 'absurdly', 'annoying', '//t.co/H94NCaSszX', 'dark_shark', 'reaktorplayer', 'until', 'physiologists', 'Many', 'unable', 'sounds', 'Simon', 'Garfunkle', 'Then', 'drank', 'forgot', '/r/Showerthoughts', '//t.co/02zk1hWDUn', 'acamprosate1', '18', '24/7', 'watch', '/r/Showerthoughts-', '//t.co/ruoAAPl1fW', 'EARS', 'januarypopper', 'early', 'update', 'previously', 'failed/not', 'failed', '🙂', 'don', 'forget', 'P3', 'BILLION', 'market', 'brings', 'world-class', 'stemcell', 'scientists/researchers', 'guide', 'regenerative', '//t.co/P3l5zZRDrm', '//t.co/yrwNjex9Yo', '//t.co/SFHT9pnabj', '//t.co/OSYKJhDhJa', 'Back', 'Silence', 'Method', 'innovative', 'approach', 'developed', 'member', 'Terry', 'Talk', 'cover', 'chapters', 'book', 'worth', 'Be', 'persistent', 'describing', '//t.co/ojQJ70SBQA', 'Firstladyoflove', 'Clicking', 'awareness', 'tinnitustreat', 'spend', '5000', 'pink', 'noise-cancelling', 'daily', 'band', 'dent', '//t.co/wh94u7VCAj', 'Cause', '//t.co/Qsp4s9gvzH', 'Kiddi', 'fortunately', 'internal', 'eardrum', 'antibiotics', 'play', 'drums', 'afraid', 'reappear', 'Alternative', '//t.co/1zXeJveYJZ', '//t.co/tvBPZSxAKJ', '//t.co/7EFVrZDo6P', '//t.co/yApcT5qKGB', 'TigerJohnson10', 'anderkritic', 'BattleOfChelsea', 'Goyim_Doll', 'whereangelsdare', 'Icon99558924', 'OhRoyalOne', 'Anon6_NvrForget', 'GhostPalestine', 'darren_dazmav_2', 'RebelPioneers', 'Ronin_lonewolf', 'MrNegroMilitant', 'Morpheous_one', 'Claudia_Kealoha', 'realDonaldTrump', 'nana', 'suffered', 'fukin', 'roundabout', '2000s', 'field', 'table', 'murdered', 'london', 'brought', 'forward', 'nan', 'sleepers', 'anti', 'psychs', 'CountDankulaTV', 'BPPV', 'U', 'salt', 'pillows', 'restrict', 'up/down', 'Dramamine', 'nausea', 'C', 'regarding', 'esp', 'feeling', 'fullness/tinnitus', 'Betaserc', 'Vertigoheel', 'Tinnitus/Weight', 'Newburyport', 'weightloss', 'fatloss', 'diet', '//t.co/jmtJI3DdDb', '//t.co/vjQOZDVGDE', 'We', 'digital', 'consultation', 'aid', 'sales', 'repair', 'speech', 'Reliable', 'Services', 'Consultation', '//t.co/WVqJaZdrq0', '//t.co/12RGpa2Au3', '//t.co/9yR3oz9E0G', 'Banish', '//t.co/kOyFwk3bxV', '//t.co/QjlWVQbcM0', 'ross', 'lynch', 'Thankfully', 'leading', 'provider', '//t.co/irPDimWyiL', 'Scaler17', 'Ginko', 'stop', '//t.co/GoXs8XVijZ', '//t.co/JwYrGH6V2t', '//t.co/ojiwWv0YUQ', 'Tones', '//t.co/rB77M6Xjep', '//t.co/DpPbGCRotB', '175.16hz', 'Literally', 'front', 'humming', 'emails', 'Lol', 'nice', '//t.co/yKWSzj92Me', '//t.co/C2Et5mYcxj', '//t.co/EITNdkUp3Z', 'kaye_ksprecruit', 'BritishTinnitus', 'lack', 'hold', 'cool', 'dude', 'sessions', 'lined', 'Hope', 'dealt', 'quickly.xx', 'Anyone', '//t.co/2FuTf0mLVM', 'grow', 'teeth', '//t.co/CMJATRa4mc', 'Does', 'mention', 'freaking', 'jet', 'X-Mansion', 'Unless', 'mutant', 'whose', 'power', 'drjamesdinic', 'natureboyrr', 'lowcarbGP', 'Gearoidmuar', 'MarikaSboros', 'Mangan150', 'ajwodecki', 'TuckerGoodrich', 'VernersViews', 'Plantbiased', 'FatEmperor', 'AnnChildersMD', 'BelindaFettke', 'nickykylegarden', 'FructoseNo', 'DrDeborahMD', 'HELPdietSA', 'ProfTimNoakes', 'Nutradvance', 'janvyjidak', 'lay', 'PMS/cravings', 'Itchy', 'Cramps', 'prone', 'magdeficiency', 'have/had', 'regularly/constantly', 'lchf', 'freeOfDepression', 'lowcarb', 'Research', 'guidelines', 'assessment', 'FrontPsychol', '2017Highlights', '//t.co/SBe74Rm4eN', 'MaastrichtU', 'NovaUnl', 'uoaofficial', 'CNRS', 'UAntwerpen', 'karolinskainst', 'UniSouthDenmark', 'uni_copenhagen', 'UniofNottingham', '//t.co/4Yq3LE7Cuj', 'littleamiss', 'almost', 'decade', 'living', 'resolved', 'fully', 'habituate', 'learn', 'drive', 'p', 'CONTACTs', 'LINKS', 'Cannabis', 'Resource', 'Center', 'MERCY', 'Info', 'page', '//t.co/NWOWSyCpnv', 'gon', 'na', 'acute', 'rolling', 'dice', 'rn', '//t.co/HF7yKQC4fM', 'BinauralBeatsMeditation', 'M', 'Meditation', 'SoundTherapy', 'SpectralBinauralBeats', 'TinnitusMask', 'TinnitusMasking', 'TinnitusRelief', '//t.co/EDsN04CTm3', '//t.co/SYSuJ9YnUR', 'rigmorole', 'Same', 'o', 'ok.', 'small', 'price', 'balanced', 'EntheosShines', 'kriketUSA', 'Ooooo', 'livingwitht', 'reduce', 'dramaticly', 'answer', 'drpaultartellmd', 'hello', 'mounths', 'internet', 'cant', 'studies', 'becuse', 'sure', 'contact', 'gave', 'destroying', 'depresión', 'CANT', 'WilliamShatner', 'successful', 'cruel', 'heinous', 'mercy', 'lucky', 'awful', '//t.co/AV3lgxtKzz', '//t.co/dUHEyX7au0', '//t.co/ofjzDyaIj2', '►10', 'Baby', 'Pink', '~', 'proof', 'thgat', 'VIBRATION', 'DISEASE', 'Positive', 'Magazine', 'article', \"'Toning\", 'Energy', 'Alignment', 'Heal', '//t.co/mwhlK8aiZV', '//t.co/yW8RlwWTrb', 'Wishing', 'Happy', 'Year', 'check', 'changing', 'testimonials', 'tinnitusrelief', '//t.co/UTCYRUyTT6', 'laughing', 'matter', 'whoever', 'finds', 'millionaire', 'billionaire', 'Doctor', 'Anthology', 'Terror', 'Tales', 'janlmayes', 'featured', 'BookDailycom', '//t.co/l8EG5XhqG0', 'breakthroughs', 'attract', 'pharma', 'venture', 'capital', '//t.co/RO92Bi5ihz', 'VC', 'clinicaltrials', 'stemcells', 'biotech', '//t.co/qLlZmIIvzX', 'pursued', 'Susan', 'Rogan', '//t.co/leUuPgZ3uH', 'quest', 'wants', '//t.co/srEvXXqpLE', 'Beat', 'Are', 'Marching', '//t.co/rEHFhHy4Nj', 'Mindfulness-based', 'severity', '//t.co/wjzykkBsRI', '//t.co/DoHhpS8JKj', 'CT', 'Neuronal', 'Hyperactivity', '//t.co/TG6OkVvxsQ', '//t.co/FId7CjXlry', '//t.co/0yhzCsdiuL', '//t.co/KIRzs49bBx', 'Medible', 'Mediblereview', '//t.co/9CCuoIkFtD', 'varies', 'finding', 'coping', 'strategy', 'hit-or-miss', 'process', '//t.co/JJOJmCR1TH', 'chiropractic', 'alternative', 'offered', 'holistically', 'ease', 'scientifically', 'documented', '//t.co/Es4lwmZoPa', 'tip', 'seniors', 'marijuana', 'safety', 'installment', 'Capsule', 'Comments', 'Bill', 'Coon', 'Muskoka', 'Centre', 'Pharmacy', '//t.co/r7i8izBTFp', 'johnwelshtrades', '🙃', 'sounded', 'serious', 'totally', 'scrapping', 'though', 'shouldn', 'stock', 'HODLing', '//t.co/LE2Wvb9FRt', 'Secrets', '75', 'Affiliate', 'Commission', 'Treatment…', '//t.co/LZ2MdCT50V', '//t.co/vHcmDCKYM0', '//t.co/GeW1oHX5Hn', 'Get', 'Rid', '//t.co/1E44V4EDIc', 'Explaining', 'backstory', 'concussion', 'Tia', 'Pili', 'interrupts', 'saw', 'onion', '🛑Uses', 'oral❗️', 'improvement', 'dementia', 'multiple', 'sclerosis', 'sexual', 'dysfunction', 'premenstrual', 'syndrome', 'glaucoma', 'diabetic', 'eye', 'صيدله', 'pharmd_online', '//t.co/JW9fI7PFKp', 'Online', 'Finasteride', '1mg', 'Generic', 'Propecia', 'Wan', 'wellbutrin', '=', '//t.co/NJhNynrU2n', 'Supplement', '//t.co/t67sHkWf7O', 'neuronal', 'hyperactivity', '//t.co/BFr4BdNDsN', '//t.co/EAnSDBJcU8', 'Machine', 'Timers', 'Ideal', 'Light-sleepers', 'Babies', 'HANPURE', 'Off', '//t.co/fTVvgDqzhT', 'Amzrcdeal', 'Featured-Deal', 'Sleep-Sound-Machine', 'White-Noise-Machine', '//t.co/oRj6pruN4o', 'Article', '€10M', 'funding', 'EU_H2020', 'crucial', 'including', 'discussion', 'own', 'CederrothCR', '//t.co/SbQMnn3p9E', 'chrisevans_cj', 'hearingaids', 'maybe_ed', 'hate', 'lem', '😭', 'Mindfulness—a', '//t.co/xhyPpE2Fcc', '//t.co/3C6xgeklGf', 'DSNHealth', 'psychologypsychiatry', 'randomized', 'controlled', 'current', 'issue', 'Psychotherapy', 'Psychosomatics', 'discloses', 'effectiveness', 'mindfulness-based', 'chronic', 'Tinnitu', '//t.co/kr8IPgFAlT', 'sonic', 'designs', 'Jon', 'Dattorro', 'riâ€¦', '//t.co/0uJ9oOnbKv', 'Stumbleupon', 'disclosing', '//t.co/NLTJHTy3QA', '//t.co/zeuQIlJI3M', 'Latest', 'insights', '//t.co/1P2EuPuZ5L', 'Xpress', '//t.co/YRbBmxNmup', '//t.co/bP0KigOao1', 'RT', 'CognitiveTherap', '//t.co/8M3TAcqeYV', '//t.co/zamWyHd5Zz', 'Comparison', 'CBTi', 'Usual', 'Related', 'disturbance', 'primary', 'comorbid', 'chroni', '//t.co/MjqMvNKI7B', 'continues', 'build', 'connected', 'rest', 'body', '//t.co/ogXXLg2tuw', 'medical_xpress', '+https', '//t.co/sWmoV0ErpB', 'reveals', \"'resetting\", 'cells', '//t.co/tdGoH0LVps', 'news', '//t.co/xZAQmE8w2c', '//t.co/2WgIBWOGkt', '//t.co/GMdoObdsUe', '//t.co/0RL8ntYfB6', '//t.co/2YcsoCD6M1', 'DerangedRadio', '//t.co/5CsLR0Espg', \"'Resetting\", '//t.co/WPdT8fEOfg', 'MailOnline', 'Intriguing', 'ringing-ear', 'Noninvasive', 'turns', 'volume', 'phantom', '//t.co/al2mQpwKyq', 'AAAS', 'EurekAlert', '//t.co/PKvSbQmDQx', 'Mail', 'eliminated', 'two..', '//t.co/AVpTzV4UF6', 'MylesKennedy', 'Researchers', '//t.co/XAq3Zvq5vp', '//t.co/32Bad3XNkw', '//t.co/TeJd3LyJtT', '//t.co/ovO1HLjLkD', '//t.co/UYAwzYvcrM', '//t.co/LNm9hMOdij', '//t.co/vBSdxKwGCJ', 'healthyliving', 'healthtips', '//t.co/a2hwjn9VHs', '//t.co/bAr2QQrw9Q', '//t.co/Dw29ptbOpJ', '//t.co/afHJfNhuX8', '//t.co/wFauEYAQ8s', '//t.co/kW9YL5GAS2', 'First', 'DailyMail', '//t.co/GSX8UwxBds', 'Millions', 'soon', 'Science', 'Translational', 'U-M', 'team', 'success', 'trials', '//t.co/1eabbuf7zu', '//t.co/QkDdD4vsc0', 'repeatedly', 'rather', 'unpleasant', 'whilst', 'audiologyonline', 'Deaf', '//t.co/KiOijQ5w1F', 'Management', 'tinittus', 'holistic', 'tailored', 'each', 'weak', 'harm', 'increased', '//t.co/sVx0eeGtZD', 'DJ_JiniCowan', 'showing', 'deaf', 'hearings', 'Am', 'odd', 'Finally', '//t.co/WEAahsWAen', '//t.co/UPWO5Wuv63', '//t.co/21j346wicO', '//t.co/QunXVBRf2e', 'resetting', 'NEWS', 'GROUP', 'WORLD', '//t.co/iBhe5Le9d6', '//t.co/KNiVdNNZyC', '//t.co/I4j1gWnK2Y', '//t.co/ZIB8rDtgjB', 'option', 'remains', 'elusive', '//t.co/KJ2XiklIbR', 'FIFA', 'GLOBE', 'CUP', '//t.co/8DSKMCwf1N', 'Goal', 'ADHD', 'job', '//t.co/gdAxdfEwtj', '//t.co/os1EsTKoY4', 'junior_miller', '//t.co/N33VRdjQKt', '//t.co/pPhmAZvMOY', 'WiringTheBrain', 'AD', '😂', '//t.co/15Q8xSWGeg', 'device', 'SlashGear', '//t.co/QHGcFuXBxB', 'slashgear', '//t.co/JqEBcnl7ut', '//t.co/XFw0VwIcqw', 'archive', 'science', '//t.co/bpD7eZG7rT', '//t.co/fdgmLEZu4S', 'UMichiganNews', 'UMich', '//t.co/y6oQDTI7So', 'University', 'Michigan', '//t.co/c2VJFPgKEq', '//t.co/dQb32vJhGH', '//t.co/ddcAfj3d6K', 'MINDFULNESS', 'COULD', 'TREATMENT', '//t.co/Rk472Rptfm', 'Aural', '2018…Tinnitus', '+', '//t.co/vWnluFqIuj', '//t.co/ZQ4oVwjQee', 'Gizmodo', '//t.co/pGJ1L8DZ7a', 'gives', 'someday', '//t.co/JEaysjPWF8', 'blast', 'pulses', 'tame', 'disrupts', 'synchronised', 'signals', 'responsible', 'neuroscience', '//t.co/iOphx6nSbo', 'neeratanden', 'WHOEVER', 'USES', 'OR', 'SELLS', 'DRUGS', 'ALCOHOL', 'Anthem', 'DRUG', 'SONG', 'Drug', 'Users', 'Dealers', '//t.co/CxVvytlOkm', '31Daysofmemories', 'Periscope', 'pescetarian', 'InBrotherhood', 'IranDeal', 'TheJump', 'TalksAtGS', 'RetroOnAgile', '//t.co/zmVuDmMwcg', 'mmj', 'thc', 'dank', '//t.co/ilkCVxVAs4', '//t.co/2hJUSMdviN', '//t.co/yXvspdmfCA', '//t.co/8GRe7PYdTi', '//t.co/3ktdGcqbr7', '//t.co/f40XgVrmha', 'Upside', 'Downside', 'permanently-attached', 'Guinea', 'Pig', 'train', 'transformer', '//t.co/xQ7FUvBnGi', '//t.co/w8eajGscSA', 'Might', 'Non-invasive', 'VIDEO', '//t.co/DOnUxg9YK2', 'SmartNews', '//t.co/cdMmUk3W0E', '//t.co/2rQZXzUZR5', '//t.co/mTbf0IuO8L', '039', '//t.co/5iyeyJaBPG', 'cj_1007', 'From', 'potency', 'Zinc', 'better', '😎', '//t.co/NKwMNEve3g', 'easier', '11', '//t.co/QynapijrS3', '//t.co/9KpLc65hTw', '//t.co/54U3jto0nH', '//t.co/mRgDJ1Ovv6', '//t.co/7EzvYFaGnb', 'further', 'mindfulness', '//t.co/Fty6qTVy7F', 'CubexHearing', '//t.co/bNe1fmgTMQ', 'DrRanj', 'Yep', 'lb', 'Xmas', 'venlafaxine', 'nobody', 'buy', 'house', 'weather', 'shite', 'However', 'trainers', 'run', 'step', 'din', 'electric', 'shocks', '//t.co/K5LPHPeHpz', 'Suffer', '//t.co/d71NJN9UBU', '//t.co/abH4s0lBjw', 'whatwilltheythinkofnext', 'TheFutureIsNOW', '//t.co/Kc8ou3u3fO', '//t.co/aiKTSivVVq', 'novel', 'maddening', 'your…', '//t.co/sPccQpdhN8', '//t.co/Krfjfl6QzS', '//t.co/lHM5tXJqcs', '//t.co/aiKTSiel3S', 'conducted', 'presented', 'anti-tinnitus', 'Clinical', 'tonal', 'tailor-made', 'notched', '//t.co/Lsn7CbJDnn', 'bmcneurol', '//t.co/jtn4OWJ7Xu', '//t.co/xjTgmxeX34', '//t.co/TAVDmM3Rg2', '//t.co/0q0sF0otg0', 'technologynews', 'consulting', 'managementconsulting', '//t.co/i8OPLbIz2y', 'innovation', '//t.co/1z9merpY1B', 'IBTimesUK', 'Times', 'maddening..', '//t.co/VH4XudjOeZ', 'Pharmanews', 'Farmaci', '//t.co/tGPCTMC3s5', '//t.co/GINQZOjxid', '//t.co/j5Q4o1kb0o', '//t.co/qs4IvNcown', 'gear', 'universityofmichigan', '//t.co/mZbSOl4ovT', '//t.co/zn74tAKO0x', '//t.co/9R3TbkFCU9', 'Engadget', 'Apparently', 'service-connected', 'disability', 'veterans', '//t.co/CKhqi538px', '//t.co/f6NPmKmSUC', 'those…', '//t.co/lk35ccSd35', 's…', '//t.co/pv5iJtMf0G', 'Novel', '//t.co/kAME5Ozxl1', 'HealthMedicine', 'ScienceTech', 'UnitedStates', '//t.co/CnwyxjjsCo', 'engadget', 'tech', 'Specially', 'timed', '//t.co/rtSTo0YHAV', '//t.co/KthG49rMC5', '//t.co/aBnRPT1ddq', '//t.co/33VfqxyZDA', '//t.co/viduWe5SQR', '//t.co/P4YAzLAWvp', 'Alphr', '//t.co/FKWm3cem1Q', '//t.co/BWjLdz9907', 'alphr', 'Lionelmedia', 'mother', 'restless', 'leg', 'Interesting', '//t.co/aMtTB40gDm', 'Bad', 'obtained', 'arrest', 'double', 'homicide', 'BlackMirror', '//t.co/wS8bCkWNtW', 'Scientists', '//t.co/Dt7AiE0vJg', '//t.co/pGcdrDVf2t', '//t.co/TOSqce5AEI', '//t.co/GNRerqIfSv', '//t.co/fqcbcyAHms', 'Continental', 'An', 'experimental', 'delivers', 'precisely', 'activity', '//t.co/o6jYvURUxH', 'Bimodal', 'Hold', 'ReliaWire', '//t.co/hV0v0w2r1S', 'followed', '//t.co/oQkvv6awms', '//t.co/XhipBK73Fy', '//t.co/uacs2bWpJC', '//t.co/CR2u7k8OQW', 'Google', '//t.co/4xHS42KmF5', '//t.co/BipL5X3lkY', '//t.co/dfjbfh5TFx', 'Soothe', 'Infection', 'Adults', 'Staph', 'Cell-Pid', 'Earpain', 'staph', 'pneumonia', '//t.co/hhV8FHeA9m', '//t.co/Qly1e0qisF', 'Hold…', '//t.co/3FXZsE56zX', '//t.co/ebTOExpPt3', '//t.co/1Y9hkiyfAy', '//t.co/29hdKIHdrY', '//t.co/pYQO6NO9d5', '//t.co/QjmTxlbGw7', '//t.co/AEhuUpv5Wm', '//t.co/GAQQHugL3g', '//t.co/koNrkFbMXR', 'Black', 'Cosmopolitan', 'Device', 'Phantom', 'Caused', 'By', 'Discovered', '//t.co/RkrP39LKE7', 'AuditoryPerception', 'RTT', '//t.co/8Am2jwKCPi', '//t.co/x2ARi8tR8m', '//t.co/3NEWpebdeo', 'Possibly', 'Potential', 'aimed', 'root', 'Resubmitted', 'flair', 'violation', '//t.co/KEps3ZkwcZ', 'army', 'military', '//t.co/9orUrYP4uD', '//t.co/1Zs52vgTpp', '//t.co/2NwGt4XQMT', '//t.co/KpNtIsk77r', '//t.co/ERV1ZX21vr', '//t.co/JYb0Y9ZezF', '//t.co/vgFusQjQkB', '//t.co/dhPbumIb5v', '//t.co/EoyUQ8KX5O', '//t.co/X59ouo2f5i', '//t.co/0shij8C4RQ', '//t.co/MhgHkpNsqG', '//t.co/sDvqHWzS81', '//t.co/mFdeiQ1w5j', '//t.co/qOaptf532o', '//t.co/cb5bYc0SS6', '//t.co/XH36S3epos', '//t.co/74GAbVW3Rk', '//t.co/zzEZKOWC4o', '//t.co/zZBI8mtH4F', '//t.co/8zkkE4gfhP', '//t.co/Yy0KWm5i6c', '//t.co/5UtLor7P9r', '//t.co/bdYbLdBrBs', '//t.co/GqzkXsLihV', '//t.co/JwKkociy1t', '//t.co/waVZS8xA7F', '//t.co/ag1ffWucd3', '//t.co/NPKr8NR8fK', '//t.co/Civaw349lm', '//t.co/wyCoGqd4DF', '//t.co/OYTiXNHma0', '//t.co/9og0dnDAa1', '//t.co/ukgPnO0ETR', 'Using', 'combination', 'non-invasive', 'roots', '//t.co/9iQFwk8Pl9', '//t.co/jaEj0UW2Er', '//t.co/dXm8ZpSk8T', '//t.co/d2htqycby7', 'targeting', '//t.co/2li8Fd0hKf', '//t.co/7CgWjMUZ57', '//t.co/pIrMVlkgiX', '//t.co/yDscjyQROO', '//t.co/d8VQH8VNAu', '//t.co/TWVkGQyLof', '//t.co/cYIrrv9d3y', '//t.co/XUHsTMxg3m', '//t.co/Nk4W1BdfJK', '//t.co/x9xxFNryXJ', '//t.co/EaZUerkXCn', '//t.co/ZcZtLQ2hYb', '//t.co/31PTj4qo40', '//t.co/plnGoVcsDy', '//t.co/WocS54TYzg', '//t.co/R1qsAYdz7n', '//t.co/beCrf3xGAl', '//t.co/SAu7RKOvSw', '//t.co/yp5y3Sk0AN', '//t.co/mq4qvMNuHg', '//t.co/JnudwUU6UG', '//t.co/RkPijacuH0', '//t.co/QhH70Y2oJ2', '//t.co/yQIxfeQ1R9', '//t.co/aUuZvz0wEs', '//t.co/8Yic04mNL7', 'TechSpot', '//t.co/A6Neq1sXX8', 'pcevolution.us', '//t.co/pZLpM6FOys', '//t.co/karYkNwqLP', 'Lots', 'pseudoscience', 'quackery', 'towards', 'definitive', '//t.co/Afb8lqf6yz', '//t.co/T5249FN6wQ', '//t.co/OAp1WlEyde', '//t.co/a25ZKgHMGd', 'TechNews', '//t.co/GNyC8h5nHU', 'degree', 'end', 'sight', 'Mi', '//t.co/HHkL8EqZdo', '//t.co/ATGYNH0nZd', 'symptoms..', '//t.co/Vf3qGQ0qEz', 'Tinnitus-Vertigo', 'Remedies-', 'Chinese', '//t.co/lOnl2sKrdY', '//t.co/tAatzOT1nt', '//t.co/T4V5b6Rd5Z', '//t.co/TeWD6zbEvc', '//t.co/DZWM9Ssgli', '//t.co/2JSmQSYDbz', '//t.co/ozx8phWB1y', '//t.co/5THwgAJYG9', '//t.co/rhVvVIVWxn', '//t.co/QPjl66zPFo', '//t.co/ykWWqGBRlC', '//t.co/abuWg1jpdd', '//t.co/0K7R3trF9V', 'theories', 'traces', 'dorsal', 'cochlear', 'nucleus.…', '//t.co/bCz55CaG6O', '//t.co/4Sp1LiY9B7', '//t.co/omAv6heWRs', '//t.co/Uc00K2Qh5g', 'Experience', '//t.co/lKNCDF5JrB', '//t.co/PjIkzyGWos', 'cataracts', 'migrains', 'PMS', 'fabulous', 'tea', '//t.co/IbvpRPgCpY', 'Independent', 'Consultant', 'Steeped', 'Tea', '//t.co/feQt5lXVyF', '//t.co/y1UO4uejtR', '//t.co/IOxHj0ZCM8', '_wintergirl93', 'Sorry', 'relate', 'Lost', 'myself', 'induce', 'Smoke', 'detector', '120dB', 'dangerous', 'extra', 'immediately', 'PubMed', 'earbuds', 'event', '//t.co/0e1x57cBFD', '//t.co/ZW7miOHofV', '//t.co/TFGIypWUCa', 'yields', 'iPod', 'generation', '45.', '//t.co/FweCVpgn7d', '//fact', 'moderate', 'unending', 'bothered', 'slightest', 'varying', 'degrees', 'learns', 'react', 'detachment', 'tamps', 'limbic', 'increases', 'promotes', 'neurogenesis', 'Makes', 'sense', '//t.co/1KbLjQdJMv', 'mitchellvii', 'smell', 'pot', 'amount', 'strokes', 'retinal', 'compressed', 'vertebrae', 'fan', 'glad', 'legal', 'Canada', 'someone', 'Interested', '//t.co/jpxpPTSE7k', '//t.co/spHwvoRg7F', '//t.co/jWPwlgCW2b', '//t.co/Nv5tGSmU5y', '//t.co/VtdP1VGUjG', '//t.co/7XGt43uzJ0', '//t.co/Z0xqzrL230', '//t.co/kcbcWSG0mZ', '//t.co/Ia4A6uGvQe', '//t.co/BlOCZwz3po', 'thoughtbees', '//t.co/hWWQWfEBpi', '//t.co/x0hO2BpaP6', '//t.co/lOVBeMcWio', '//t.co/Ez9QSmnUgD', '//t.co/EMIyKYHz3O', '//t.co/GlUip5jGO2', '//t.co/huodojKaW1', '//t.co/muJ3TDTdbh', 'Jan', 'Newsletter', 'featuring', 'electric…', '//t.co/KXWohBLz6z', '//t.co/3ztB32gVzt', '//t.co/9p7IMyJT5T', '//t.co/CW1HPdTtD0', 'Tiinitus', '//t.co/J3mPBvbIdV', '//t.co/y21atDniud', '//t.co/fayyx3a52E', 'contracted', 'top', 'SSAFA', 'They', 'turned', '//t.co/crfoOt6sFL', '//t.co/XCdgvLTmVW', '//t.co/O2R2FCvceh', '//t.co/8cSbjGMkUR', '//t.co/IXGxmn4qm2', 'Overprotection-Hyperacusis-Phonophobia', 'Case', '//t.co/aSweUGKs6K', 'impulses', '👉', '//t.co/34E4trKeSg', '//t.co/TvqP8Trxh7', 'Experimental', '//t.co/08ONbJWCnH', '//t.co/6dfyEHgWtY', '//t.co/LaegUIv7d7', '//t.co/e0bPlctLCs', '//t.co/HvKGVzYWFl', 'encouraging', '//t.co/0QnaCrDmKd', '//t.co/Rk50Fsifpw', '//t.co/FFCbfsTHKu', '//t.co/teeE9rGQzW', '//t.co/EAnQZbdsz4', '//t.co/8TNP5P6Hco', '//t.co/GXFIHfTVid', '//t.co/mU9wGXcYZS', '//t.co/pODe2A1gwj', 'welcome', 'enjoy', 'background', 'hiss', '//t.co/88dUCfucSY', '//t.co/ybmoYs3nsG', 'hears…a', 'somatic', '//t.co/IsJ5dy09wc', '//t.co/zEUhsPEU9i', 'W3LiveNews', 'injury', 'joint', 'spine', 'injuries', 'VA', 'care', 'debate', '//t.co/5fy6BmnC55', '//t.co/8aOCnKO0DT', 'Canadians', 'debilitating', 'AngeMulholland', '//t.co/zB5NehyiNT', 'ThroughTinnitus', 'truly', 'sorry', 'assuming', 'checked', 'BTA', '//t.co/k0QOt0Df5P', 'and/or', 'lindalinked', 'replying', 'embarrassed', 'discourage', 'organized', 'helpful', 'Unfortunately', 'hubby', 'begged', '1st', 'suicide', 'attempt', 'alive', 'HyperacusisCure', 'RestoredHearing', 'TinnitusSupport', 'ActionOnHearing', 'TinnitusHub', 'Tinnitusreduce', 'Jonoheale', '//t.co/WM8BnbfjvJ', '//t.co/viEFTIUJ7A', '//t.co/xgTeXdKeYe', '//t.co/AuLcdavzqU', 'vía', '//t.co/j8fgeR3dFF', 'steps', 'CTVNews', '//t.co/uPWWQJcwyR', '//t.co/T0jFoJIY8M', 'GHI', 'economical', 'generators', 'units', 'manufacturing', 'local', 'audpeeps', '//t.co/u43fBMiySm', 'God..', \"'fix\", '//t.co/b7TK7fV3J5', 'creation', 'treats', '//t.co/a4JPJYuhi3', '//t.co/CdMmCGuAne', '//t.co/fw8r2vOySH', '//t.co/csnfe16lw7', '//t.co/y3lh7LJrly', '//t.co/oVqXwaNGtd', '//t.co/LMa2ozQKdT', 'TinnitusErase', 'stopping', 'meds', '//t.co/XfdbkBelVa', '//t.co/NctTMp0cnK', 'trip', 'road', 'Hamilton', 'every', '//t.co/9nN5EIVRPU', 'Relay', '//t.co/9G7ygqyLzA', 'medtech', '//t.co/gWR9eV94oh', '//t.co/q4hdUvjr5M', '//t.co/uCL1R88CNL', 'SOOTHING', 'CITY', 'NOISES', 'HIGHWAY', 'product', 'hotdeal', 'Electric', 'Instrument', 'Repair', '//t.co/iaS9xLIQRP', '//t.co/JbdJmukW0j', 'JimGaffigan', 'god', 'ShiCooks', '//t.co/mMaLStJvKJ', '//t.co/ANb6nFs9m8', '//t.co/v5apUA4jp9', '//t.co/3VY4y3jNF0', '//t.co/XAh3JaOKLo', 'extra-special', 'wo', 'affected', 'SHRIEKING', 'Yay', '//t.co/JvP5iATZG7', '//t.co/SHTC1qMohO', '//t.co/cbWaEqaiLB', '//t.co/HCqDUQ9ZEA', 'rt', 'HEALTHCARE', '//t.co/FIJD5UBiNj', '//t.co/ITMqQZSclR', '//t.co/xgnkConvne', 'TalentedLadies', 'HEAROSBrand', 'guitar_joseph', 'healthnews', '//t.co/bY9f5Tf52E', '//t.co/Ss4syVr0dw', 'super', 'develops', 'perhaps', 'far', '//t.co/7juvnHkl0j', '//t.co/rGBSHydtkR', 'shhhhhh', '//t.co/4vLGLRiyA7', '//t.co/A6jdqJgAE6', '//t.co/hgfP4Kjpj8', '//t.co/zhYk0WfhdP', '▶️', 'SLEEPING', 'RELAXATION', 'WHITE', 'BROWN', 'NOISE', 'HOURS', '📢', '//t.co/3KYWvZyzBe', 'Sounds-Tinnitus', '//t.co/dxZIEjgHAt', 'Everyone', 'scared', 'Electromagnetic', 'pulse', 'THIS', 'WOULD', 'SO', 'WELCOMED', 'AT', 'LEAST', 'MY', '//t.co/Nz8pMNT2zR', '//t.co/ALkiOFZUJq', 'Neuromodulation', 'Technology', 'Spinal', 'Cord', 'Application', 'Epilepsy', '//t.co/7kEi1lZ9lx', '//t.co/zGmeOCUlft', '//t.co/qec70gobfK', '//t.co/74ClqwyzcK', 'Wish', 'd', 'worn', 'earplugs', 'rock', 'concerts', 'subway', 'young', 'Listen', '//t.co/vjApWnmRWn', 'Maladaptive', 'plasticity', '—', 'triggers', 'mechanisms', 'needs', 'subscription', 'NatRevNeurol', '//t.co/uTcpuvHFMK', '//t.co/I72edtYUfz', '//t.co/XjhKzj80Cz', '//t.co/LTjCJE9Oi4', '//t.co/yAVwDBUeel', '//t.co/potTEmz0KL', 'neurons', 'misfiring', 'nucleus', 'auditory', '//t.co/n5alJP4Cns', '//t.co/hhHQuO9CMw', 'Neurology', 'Twitter', 'ringing…', '//t.co/6xveaEiqwQ', '//t.co/hJBRZcIQOf', 'sign', '💖💖💖', '//t.co/9hxEZKVv8R', '//t.co/CvVyHARm13', 'CDNMinHealth', 'CCSVI', 'relevant', 'MS.', 'look', 'promote', 'testing', '//t.co/0FaJYYmyf2', '//t.co/2xylrZoJqD', '//t.co/TOOIaToKPg', '//t.co/PD89JJYnat', 'Violet', 'Visual', 'Stimulus', '//t.co/XrrRdkC523', '//t.co/XplrKculh3', '//t.co/blriK1TshJ', 'Ginseng', 'IMO', 'anyway', 'fish', 'vitamin', 'e', 'aspirin', '//t.co/fM8CoWTd0u', '//t.co/HTQbfZXKpa', '//t.co/d7QPDN5yr1', '//t.co/juKcCaJO8r', 'Don', 'FDA', '//t.co/Jnzhro3aX9', '//t.co/dbYf6uhrka', '//t.co/NBKS9UYSGM', 'richardbrand', 'breakthrough', 'research/treatment', 'sadly', 'HOPE', 'killed', 'himself.Do', 'contribute', 'dying', '//t.co/4e7wSa77iS', '//t.co/mHakYFPUF8', '//t.co/gSTrjGMzov', 'gadget', 'HiTech', 'World', 'Europe', 'experiment', '//t.co/5JxEzqA1oT', '//t.co/7BXG6nTUh9', '+GENERAL', 'PHYSICS', 'LABORATORY', '//t.co/RtujubDskI', '//t.co/AJrOOnNcAS', '//t.co/ZBNrhLAgip', '//t.co/vyJzAWmjFQ', '//t.co/3Na5x8Pgv2', '//t.co/ZbxDs4QOWi', 'DEMONIC**', '//t.co/DOATBMvQhp', 'hopefully', 'future', 'SR', 'Bupropion', 'cialis', 'Macon', '//t.co/cJmh5251Rs', '//t.co/8jHUeBdLzj', 'MamaCartney', 'British', '//t.co/3dplCPNa0W', 'manage', 'beneficial', 'exp', 'impacts', 'musicians', '//t.co/BDSTfX85Um', '//t.co/DEdDavvNJu', '//t.co/AQtgIZxR51', '//t.co/fofCrTXb7G', '//t.co/pI7p4PYUaw', '//t.co/gr9HF8mMap', 'T.', '//t.co/fEYo0hgA5M', '//t.co/bMeTfyGEkC', '//t.co/OXEKZosZhX', '//t.co/Nv3xLOW2h0', '//t.co/PDq2rPt96x', '//t.co/R0h9W5MICl', '//t.co/JtuPrn1RLb', 'NashGibsonmusic', 'Supposedly', 'taurine', 'help/cure', 'suspect', 'causing', '//t.co/Kh5UsRBzJx', 'Tetracyclines', 'Affect', 'fetal', 'bone', 'growth', 'avoided', 'pregnancy', 'microvesicular', 'fatty', 'liver', 'drug-induced', 'lupus', 'Inactivated', 'ions', 'milk', 'yoghurt', 'dairy', 'anaphylactic', 'shock', 'individuals', 'Discolor', 'yellow', 'hardwick', '//t.co/kJg2dS0awd', 'SSRIs', 'Specifically', 'Citalopram', 'G.A.D', 'Brilliant', '//t.co/GwEbVKEtKg', '//t.co/JCy7I1tbJR', '//t.co/ALDTQNMJpn', '//t.co/dq91UTglEx', '//t.co/WZIiapmCO0', '//t.co/2A19fRiF6n', '//t.co/GsJsI0sfnZ', 'without', 'increasing', 'quiet', 'high-pitched', 'whine', '//t.co/YkDE8RGPm9', '//t.co/jWvBsGn6Mr', 'Wanted', 'Tests', 'reduces', '//t.co/D3YrAzLd8S', '//t.co/SFbQxICRDJ', '//t.co/SU1N4TkkYK', 'beaubien_j', 'MPAVictoria', 'nervous', 'Chantix', 'super-prone', 'weird', '0.1', 'likely', 'Like', 'IBS', 'hallucinations', 'gum', '//t.co/9H8gYQWEJi', 'behind', 'directions', 'RationalDrugUse', '//t.co/y34W5SMkD1', 'Peace', 'shown', 'promise', 'taming', 'Otolaryngology', 'AAOHNS', 'JAMAOto', '//t.co/R7cpmkI3CI', 'against', 'guinea', 'pig', 'human', '//t.co/fh13KQJShM', '//t.co/qNvpSCHLMH', '//t.co/fkGnw9EOK7', 'JRobinsonAuthor', 'amazing', 'clients', 'love', 'life-changing', 'xx', 'deficient', 'circulation', 'thinner', 'drinking', 'water', 'exercising', '//t.co/72gGqcYzal', 'Rim', '//t.co/28H213vj9B', '//t.co/IGbFVYwzA7', 'direct', '//t.co/Vy4OVjF1nr', 'FFHitman', 'affordable', 'I.', '//t.co/0mXEQCFrGi', 'mogov', 'Right', 'Missouri', 'collect', 'tax', 'balance', 'budget', 'moleg', 'HB', '1554', 'Jim', 'Neely', 'Todd.Richardson', 'house.mo.gov', '//t.co/Q55BZ8v4pE', 'MOHouseBudget', '//t.co/2IklVIsx77', 'StLouis', '//t.co/yz3piv4qYv', 'Louis', 'County', '//t.co/bIKmcwWJ3Z', 'Charles', 'MO', '//t.co/NW9u5KuszD', 'Innsbrook', '//t.co/ZxUTHBEmeX', 'Clayton', '//t.co/j318Yb1Sy2', 'miracleofsound', 'call', 'dublin', 'atm', '//t.co/Z0l51fs11F', 'Soulard', '//t.co/JoodwRBw9k', 'JCMO', '//t.co/IY1kAhNmMC', 'COMO', 'MIDMO', '//t.co/w1D6ghz84S', 'Columbia', '//t.co/2gabFnJa1F', 'Independence', '//t.co/83fAnYfAcp', 'Bless', 'folks', '//t.co/l8CQK7Z9fk', 'Ways', 'Means', '//t.co/vRJ0aQzZxM', 'Grain', 'Valley', '//t.co/IfoJXpTfO7', 'KansasCity', '//t.co/NQOomILnAM', 'Cameron', '//t.co/g0wB1pTGf9', 'Lee', 'Summit', '//t.co/sYWkflDgOU', 'Springs', '😃😃😃', '//t.co/dG0Oaxxgyy', 'Kirksville', '//t.co/gn3DrXgL12', 'Warrensburg', '//t.co/VMU7PBABMA', '//t.co/X7AykWMK9V', 'Behavior', 'Distress', '//t.co/NXbLCgJxMq', 'Maysville', '//t.co/6R05or3l65', 'Joseph', '//t.co/vE7KjKY5bz', 'Agriculture', 'Policy', '//t.co/rapDe769qz', 'Economic', 'Development', '//t.co/Ts0iTr9drM', 'Mental', '//t.co/GPEh1NeBEI', 'Bragi', 'Project', 'fusing', 'wireless', '//t.co/8hzxhPRiKc', 'hearingaid', 'bragidash', 'ces2018', 'Joint', 'Committee', 'Life', '//t.co/EMlSRmjJr1', 'Tax', '//t.co/qGF2Ay85Sc', 'Workforce', '//t.co/Aa8ID3xDGs', '//t.co/1a6l2EcwTB', 'Email', 'Studies', 'CDER-OSI-GCPReferrals', 'fda.hhs.gov', 'Feb/18', 'Pharm', 'trauma', 'hrs', 'jackhammer', 'loudness', 'mondayblogs', 'Unethical', 'Otoprotective', 'Ebselen', 'SPI-1005', '//t.co/NuPVMmwUjh.NCT02779192', '//t.co/hMrmiyHm3S', 'BillGates', 'millions', 'implication', 'D/deaf', 'illness', 'treated', 'professionals', 'D/deafness', 'identity', 'state', '//t.co/duvPvebxk2', '..yousaid', 'TRY', 'OIL', 'non-intoxicating', 'oral', 'ingestion', 'reduced', 'pitch', 'level', 'others', 'basis', 'total', 'prosper', 'equals', 'fill', 'smartphone', 'apps', 'together', 'high-quality', 'Enjoy', 'digitalhealth', 'healthapps', 'eHealth', 'Healthcare', '//t.co/cllUqSTNhA', 'targeted', 'bimodal', 'auditory-somatosensory', '//t.co/GcWCXMwxrF', '//t.co/ABNdEcMgln', '//t.co/Obl9x1ZCXE\\\\', '//t.co/o2duJ2C9da', 'FredCTucker', 'Fred', 'unfortunately', 'needed', '//t.co/O60Z1fpJov', 'SunSequitur', 'Nancy', 'Faster', '//t.co/mEEm84wajH', '🛎️', 'STARTING', 'SOON', 'Master', 'Certified', 'Isabel', 'Contact', 'saera.eu', 'saera', 'master', 'prevention', 'detection', 'disorders', 'rehabilitation', '//t.co/XaDAaIObvy', '//t.co/Yxi6mMsCpJ', '//t.co/pEhfSz7wM9', 'LaurenAshburn', 'SecShulkin', 'DeptVetAffairs', 'Relying', 'Faith', 'Kind', 'policy', 'lol', 'laughable', 'contract', 'prayed', 'injured', 'medically', 'advanced', '//t.co/jVoMqWaXAO', 'perception', '//t.co/fYoiSHdmaz', '//t.co/nr8gzZKEJD', 'Shocking', '//t.co/lxATdgTbuo', 'computer', 'room', 'ambience', '//t.co/4c6sZpANfz', '//t.co/zx00bsNoYS', 'DrDionGeorgiou', 'blasé-ly', 'life-altering', 'Prozac', 'exercise', 'booze', 'mild-to-moderate', '//t.co/1bp6MD9w6G', 'sciencebeta', 'becomes', 'noticeable', 'manageable', '//t.co/eRTMG9hcMQ', '//t.co/13F7i5SE2D', '//t.co/G2KiVOztn4', '//t.co/jYj07CE5BT', 'Woah', 'counter', 'relieves', 'mind', 'garbage', '//t.co/gLQQjHFZkr', '//t.co/Wms0mhW8vN', 'g_franco1985', 'share', 'Army', 'producers', 'appreciate', 'stupid', 'allowing', 'stores', '//t.co/WxpvhqAAoC', 'Problems', 'Kashif', 'Khan', 'टिनिटस', 'का', '//t.co/XSNxo0XvRT', '//t.co/ti0XXwTMi6', 'expertise', 'sphere', 'General', 'children', 'sinus-related', 'tonsillitis', 'shenoy', 'hyderabad', 'Doctors', '//t.co/SevAuIhwnY', '//t.co/SVkf405RSG', '//t.co/pHWfNyExCZ', '//t.co/KBknXf6RWy', '//t.co/3NIOJPgMaa', 'Actually', 'MAYBE', '//t.co/XdBREXT9YO', 'MidMorningShow', 'Olderpeople', 'home', 'Avril', 'Hevey', 'Third', 'AgeWell', 'Aidan', 'Tully', 'farming', 'Motor', 'Sport', 'Karting', 'Posting', 'candidate', 'excited', 'AF243', 'affichem', 'deafness', 'AFFICHEM', '//t.co/DGYC4NpEz4', 'wondering', '//t.co/nSiRHTWrou', '//t.co/ugar1uKCOI', '//t.co/jmfyfCFhBd', 'scifri', 'msenese', 'missed', 'discussed', 'apply']\n",
      "[-0.13790871  0.49206427  0.29997766 -0.20539638  0.34359279  0.15549059\n",
      "  0.19940783 -0.20682423 -0.15000498 -0.75609589 -0.09866343 -0.6281392\n",
      "  0.62528396 -1.05442417  0.22336027  0.41439822  0.503681    0.38674828\n",
      " -0.26360273 -0.18230346 -0.19899224 -0.21767078 -1.19037104 -0.15926859\n",
      "  0.13901635 -0.16359754 -0.0178427   0.20196538  0.78309232 -0.49255544\n",
      "  0.07253719 -0.58979422  0.15587083  0.08298936  0.19502273  0.65324152\n",
      " -0.98376429  0.11898754  0.32729283  0.09156486 -0.39628401  0.41273704\n",
      " -0.58412796 -0.10213196 -0.20667636 -0.71019697 -0.6717577  -0.49955529\n",
      "  0.23026872  0.37574637 -0.42395291 -0.97197461  0.27484497 -1.02871096\n",
      " -0.09916025 -0.19937171  0.75650954 -0.04683434 -0.18160702  0.25778812\n",
      " -0.36654198 -0.49938947 -0.26762661 -0.0833287   0.14875853  0.32436019\n",
      " -0.16322161 -0.51159996 -0.18949212 -0.13864481  0.11729702 -0.17288026\n",
      "  0.30049375 -0.06104132  0.94617879 -0.58516288 -0.25206071 -0.38049582\n",
      " -1.12216616  0.44961417  0.23723502  0.21146764  0.61812657 -0.32320908\n",
      "  0.46686628  0.61170763  0.30861032  0.6194253   0.3336367   1.08314669\n",
      "  0.17992924  0.24083886 -0.25705686 -0.20230965  0.45164752 -0.36208716\n",
      "  0.20726301 -0.08455832 -0.33085039 -0.52139866]\n"
     ]
    },
    {
     "name": "stderr",
     "output_type": "stream",
     "text": [
      "C:\\Users\\lenovo-pc\\Anaconda3\\lib\\site-packages\\ipykernel_launcher.py:12: DeprecationWarning: Call to deprecated `__getitem__` (Method will be removed in 4.0.0, use self.wv.__getitem__() instead).\n",
      "  if sys.path[0] == '':\n"
     ]
    }
   ],
   "source": [
    "df = df.loc[df['treatments'].notnull()]\n",
    "temp_df=df\n",
    "\n",
    "sentences=temp_df[\"text\"]\n",
    "#code for word embeddings\n",
    "tokens =sentences.apply(nltk.word_tokenize)\n",
    "print(tokens)\n",
    "model = Word2Vec(tokens,min_count=1)\n",
    "print(model)\n",
    "words = list(model.wv.vocab)\n",
    "print(words)\n",
    "print(model['tinnitus'])"
   ]
  },
  {
   "cell_type": "code",
   "execution_count": 25,
   "metadata": {
    "collapsed": true
   },
   "outputs": [],
   "source": [
    "df.to_csv(\"out.csv\")"
   ]
  },
  {
   "cell_type": "code",
   "execution_count": 26,
   "metadata": {
    "collapsed": true,
    "scrolled": false
   },
   "outputs": [],
   "source": [
    "treatment_counts = Counter()\n",
    "word_counts = Counter()\n",
    "for row in df.itertuples():\n",
    "    treatment_counts += Counter(row[5])\n",
    "    word_counts += Counter(row[6])"
   ]
  },
  {
   "cell_type": "raw",
   "metadata": {},
   "source": []
  },
  {
   "cell_type": "code",
   "execution_count": null,
   "metadata": {
    "collapsed": true
   },
   "outputs": [],
   "source": []
  }
 ],
 "metadata": {
  "kernelspec": {
   "display_name": "Python 3",
   "language": "python",
   "name": "python3"
  },
  "language_info": {
   "codemirror_mode": {
    "name": "ipython",
    "version": 3
   },
   "file_extension": ".py",
   "mimetype": "text/x-python",
   "name": "python",
   "nbconvert_exporter": "python",
   "pygments_lexer": "ipython3",
   "version": "3.6.3"
  }
 },
 "nbformat": 4,
 "nbformat_minor": 2
}
