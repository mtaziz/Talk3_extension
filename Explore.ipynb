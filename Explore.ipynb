{
 "cells": [
  {
   "cell_type": "code",
   "execution_count": 41,
   "metadata": {},
   "outputs": [],
   "source": [
    "import pandas\n",
    "import itertools as it\n",
    "import string\n",
    "from collections import Counter\n",
    "import json\n",
    "from gensim.models import Word2Vec\n",
    "import nltk"
   ]
  },
  {
   "cell_type": "code",
   "execution_count": 3,
   "metadata": {
    "collapsed": true
   },
   "outputs": [],
   "source": [
    "punctuation_translator = str.maketrans(\n",
    "            string.punctuation, \" \" * len(string.punctuation))"
   ]
  },
  {
   "cell_type": "code",
   "execution_count": 4,
   "metadata": {
    "collapsed": true
   },
   "outputs": [],
   "source": [
    "with open('data/stopwords.txt') as fh:\n",
    "    stopwords = set(fh.read().splitlines())"
   ]
  },
  {
   "cell_type": "code",
   "execution_count": 5,
   "metadata": {
    "collapsed": true
   },
   "outputs": [],
   "source": [
    "def normalise(text):\n",
    "    return \" \".join(\n",
    "        text.translate(punctuation_translator).replace(\"\\n\", \" \").lower().split()\n",
    "    )"
   ]
  },
  {
   "cell_type": "code",
   "execution_count": 6,
   "metadata": {
    "collapsed": true
   },
   "outputs": [],
   "source": [
    "def tokenise(text):\n",
    "    return [t.strip() for t in text.strip().split(\" \")]"
   ]
  },
  {
   "cell_type": "code",
   "execution_count": 7,
   "metadata": {
    "collapsed": true
   },
   "outputs": [],
   "source": [
    "def parse_treatment_definitons(definion_file):\n",
    "    treatment_set = set()\n",
    "    treatment_mapping = {}\n",
    "    max_length = 1\n",
    "    for line in definion_file:\n",
    "        line = line.strip()\n",
    "        treatments = line.split(',')\n",
    "        name = treatments[0]\n",
    "        for treatment in treatments:\n",
    "            treatment = tuple(tokenise(normalise(treatment)))\n",
    "            max_length = max(len(treatment), max_length)\n",
    "            treatment_set.add(treatment)\n",
    "            treatment_mapping[treatment] = name\n",
    "    return treatment_set, treatment_mapping, max_length"
   ]
  },
  {
   "cell_type": "code",
   "execution_count": 8,
   "metadata": {
    "collapsed": true
   },
   "outputs": [],
   "source": [
    "def window_sliding(iterable, n):\n",
    "    gens = (\n",
    "        it.chain(it.repeat(None, n - 1 - i), iterable, it.repeat(None, i))\n",
    "        for i, gen in enumerate(it.tee(iterable, n)))\n",
    "    return zip(*gens)\n",
    "\n",
    "def find_treatments(text):\n",
    "    tokens = tokenise(normalise(text))\n",
    "    found_treatments = []\n",
    "    for x in range(max_treatment_length, 0, -1):\n",
    "        for window in window_sliding(tokens, x):\n",
    "            if tuple(window) in treatment_set:\n",
    "                found_treatments.append(treatment_mapping[tuple(window)])\n",
    "    return found_treatments or None"
   ]
  },
  {
   "cell_type": "code",
   "execution_count": 9,
   "metadata": {
    "collapsed": true
   },
   "outputs": [],
   "source": [
    "def filter_stopwords(text):\n",
    "    tokens = tokenise(normalise(text))\n",
    "    return [t for t in tokens if len(t) > 2 and t not in stopwords]"
   ]
  },
  {
   "cell_type": "code",
   "execution_count": 10,
   "metadata": {
    "collapsed": true
   },
   "outputs": [],
   "source": [
    "with open('data/merged_tweets.jsonl', 'r') as fh:\n",
    "    df = pandas.read_json(fh.read(), lines=True, convert_dates=True)"
   ]
  },
  {
   "cell_type": "code",
   "execution_count": 11,
   "metadata": {
    "collapsed": true
   },
   "outputs": [],
   "source": [
    "df = df.loc[(df['retweeted_status'].isnull()) & (df['lang'] == \"en\")]"
   ]
  },
  {
   "cell_type": "code",
   "execution_count": 12,
   "metadata": {
    "collapsed": true
   },
   "outputs": [],
   "source": [
    "df = df.loc[(df.created_at.dt.weekofyear > 48) | (df.created_at.dt.weekofyear < 3)]"
   ]
  },
  {
   "cell_type": "code",
   "execution_count": 13,
   "metadata": {
    "collapsed": true
   },
   "outputs": [],
   "source": [
    "df[\"extended_tweet\"] = df[\"extended_tweet\"].apply(lambda x: x[\"full_text\"]  if type(x) == dict else x )"
   ]
  },
  {
   "cell_type": "code",
   "execution_count": 14,
   "metadata": {
    "collapsed": true
   },
   "outputs": [],
   "source": [
    "df['text'] = df['extended_tweet'].combine_first(df[\"text\"])"
   ]
  },
  {
   "cell_type": "code",
   "execution_count": 15,
   "metadata": {
    "collapsed": true
   },
   "outputs": [],
   "source": [
    "df[\"text\"] = df[\"text\"].apply(lambda x: x.replace(\"\\n\", \" \"))"
   ]
  },
  {
   "cell_type": "code",
   "execution_count": 16,
   "metadata": {
    "collapsed": true
   },
   "outputs": [],
   "source": [
    "df[\"user_name\"] = df[\"user\"].apply(lambda x: x[\"screen_name\"])"
   ]
  },
  {
   "cell_type": "code",
   "execution_count": 19,
   "metadata": {},
   "outputs": [
    {
     "data": {
      "text/html": [
       "<div>\n",
       "<style>\n",
       "    .dataframe thead tr:only-child th {\n",
       "        text-align: right;\n",
       "    }\n",
       "\n",
       "    .dataframe thead th {\n",
       "        text-align: left;\n",
       "    }\n",
       "\n",
       "    .dataframe tbody tr th {\n",
       "        vertical-align: top;\n",
       "    }\n",
       "</style>\n",
       "<table border=\"1\" class=\"dataframe\">\n",
       "  <thead>\n",
       "    <tr style=\"text-align: right;\">\n",
       "      <th></th>\n",
       "      <th>id</th>\n",
       "      <th>created_at</th>\n",
       "      <th>text</th>\n",
       "      <th>retweet_count</th>\n",
       "      <th>user_name</th>\n",
       "    </tr>\n",
       "  </thead>\n",
       "  <tbody>\n",
       "    <tr>\n",
       "      <th>11631</th>\n",
       "      <td>937471728049147906</td>\n",
       "      <td>2017-12-04 00:00:52</td>\n",
       "      <td>@germanBruin I watched a Ted talk about a blac...</td>\n",
       "      <td>0</td>\n",
       "      <td>adrenalun</td>\n",
       "    </tr>\n",
       "    <tr>\n",
       "      <th>11636</th>\n",
       "      <td>937473962463973378</td>\n",
       "      <td>2017-12-04 00:09:44</td>\n",
       "      <td>😻😻😻Neither will I or loads of others. If THIS ...</td>\n",
       "      <td>0</td>\n",
       "      <td>Lunarteddy</td>\n",
       "    </tr>\n",
       "    <tr>\n",
       "      <th>11645</th>\n",
       "      <td>937476840893173761</td>\n",
       "      <td>2017-12-04 00:21:11</td>\n",
       "      <td>#Tinnitus can be perceived in one or both ears...</td>\n",
       "      <td>0</td>\n",
       "      <td>TinnitusErase</td>\n",
       "    </tr>\n",
       "    <tr>\n",
       "      <th>11647</th>\n",
       "      <td>937477817561837568</td>\n",
       "      <td>2017-12-04 00:25:03</td>\n",
       "      <td>And now i just sit in silence...  Just kidding...</td>\n",
       "      <td>0</td>\n",
       "      <td>Tannerguest1</td>\n",
       "    </tr>\n",
       "    <tr>\n",
       "      <th>11648</th>\n",
       "      <td>937477865712603136</td>\n",
       "      <td>2017-12-04 00:25:15</td>\n",
       "      <td>Have a weird half tinnitus half ears want to p...</td>\n",
       "      <td>0</td>\n",
       "      <td>FourQ</td>\n",
       "    </tr>\n",
       "  </tbody>\n",
       "</table>\n",
       "</div>"
      ],
      "text/plain": [
       "                       id          created_at  \\\n",
       "11631  937471728049147906 2017-12-04 00:00:52   \n",
       "11636  937473962463973378 2017-12-04 00:09:44   \n",
       "11645  937476840893173761 2017-12-04 00:21:11   \n",
       "11647  937477817561837568 2017-12-04 00:25:03   \n",
       "11648  937477865712603136 2017-12-04 00:25:15   \n",
       "\n",
       "                                                    text  retweet_count  \\\n",
       "11631  @germanBruin I watched a Ted talk about a blac...              0   \n",
       "11636  😻😻😻Neither will I or loads of others. If THIS ...              0   \n",
       "11645  #Tinnitus can be perceived in one or both ears...              0   \n",
       "11647  And now i just sit in silence...  Just kidding...              0   \n",
       "11648  Have a weird half tinnitus half ears want to p...              0   \n",
       "\n",
       "           user_name  \n",
       "11631      adrenalun  \n",
       "11636     Lunarteddy  \n",
       "11645  TinnitusErase  \n",
       "11647   Tannerguest1  \n",
       "11648          FourQ  "
      ]
     },
     "execution_count": 19,
     "metadata": {},
     "output_type": "execute_result"
    }
   ],
   "source": [
    "df = df[[\"id\", \"created_at\", \"text\", \"retweet_count\", \"user_name\"]]\n",
    "df.head(5)"
   ]
  },
  {
   "cell_type": "code",
   "execution_count": 20,
   "metadata": {
    "collapsed": true
   },
   "outputs": [],
   "source": [
    "df = df.sort_values(\"created_at\")"
   ]
  },
  {
   "cell_type": "code",
   "execution_count": 21,
   "metadata": {
    "collapsed": true
   },
   "outputs": [],
   "source": [
    "treatment_set, treatment_mapping, max_treatment_length = parse_treatment_definitons(open(\"data/treatment_definitons.txt\", 'r'))"
   ]
  },
  {
   "cell_type": "code",
   "execution_count": 22,
   "metadata": {
    "collapsed": true
   },
   "outputs": [],
   "source": [
    "df['treatments'] = df['text'].apply(find_treatments)"
   ]
  },
  {
   "cell_type": "code",
   "execution_count": 23,
   "metadata": {
    "collapsed": true
   },
   "outputs": [],
   "source": [
    "df['filtered_tokens'] = df['text'].apply(filter_stopwords)"
   ]
  },
  {
   "cell_type": "code",
   "execution_count": 45,
   "metadata": {},
   "outputs": [
    {
     "name": "stdout",
     "output_type": "stream",
     "text": [
      "11649    [It, 's, like, my, tinnitus, is, on, steroids,...\n",
      "11691    [Still, Searching, For, A, Tinnitus, Cure, ?, ...\n",
      "11701    [Hi, John, ,, On, one, show, you, were, mentio...\n",
      "11706    [I, added, a, video, to, a, @, YouTube, playli...\n",
      "11798    [Still, Searching, For, A, Tinnitus, Cure, ?, ...\n",
      "Name: text, dtype: object\n",
      "Word2Vec(vocab=77, size=100, alpha=0.025)\n",
      "['It', \"'s\", 'like', 'my', 'tinnitus', 'is', 'on', 'steroids', '.', 'Every', 'slight', 'movement', 'Had', 'it', 'a', 'couple', 'of', 'days', ',', 'if', 'anyone', 'can', 'shed', 'light', 'please', 'do', 'Still', 'Searching', 'For', 'A', 'Tinnitus', 'Cure', '?', 'Try', 'These', 'Ideas', '!', 'https', ':', '//t.co/njjWyQJmtA', '#', 'Hi', 'John', 'On', 'one', 'show', 'you', 'were', 'mentioning', 'cure', 'for', 're-iterate', 'what', 'help', 'should', 'seek', 'Thanks', 'I', 'added', 'video', 'to', '@', 'YouTube', 'playlist', '//t.co/3H9YLUbTCx', 'MOST', 'POWERFUL', 'TINNITUS', 'SOUND', 'THERAPY', '1', 'Hr|Tinnitus', 'Treatment', 'Ringing', 'in', '-', '//t.co/HaA2LJoPuX']\n",
      "[ -8.68763527e-05   4.97406768e-03   2.24040914e-03  -4.01496887e-03\n",
      "   4.29636985e-03   2.38888827e-03  -7.32909073e-04  -1.75505737e-03\n",
      "   1.77861087e-03  -3.43956193e-03  -1.91281771e-03   3.10278987e-03\n",
      "  -3.68937268e-03   3.40855867e-03   4.84142732e-03  -4.03585844e-04\n",
      "   1.15712022e-03   4.13631788e-03  -4.57452750e-03  -8.08747252e-04\n",
      "   2.14153528e-03   2.16489099e-03   1.87672419e-03  -2.51877098e-03\n",
      "  -7.72056053e-04   3.98594141e-03   2.06836127e-03  -1.97414588e-03\n",
      "  -2.11811182e-03  -1.81208819e-03  -3.69819906e-03   1.46133802e-03\n",
      "   1.69257051e-03   3.90853966e-03  -1.39382784e-03   1.90017966e-03\n",
      "   3.50317243e-03   2.65236129e-03   3.09543684e-03  -1.95652316e-03\n",
      "   1.33939879e-03  -4.52394271e-03  -4.69484803e-04   7.71429550e-05\n",
      "   4.41367552e-03  -2.56910687e-03  -2.30864482e-03   4.09263931e-03\n",
      "  -4.91000188e-04  -4.51016473e-03  -4.01355574e-05  -6.36911136e-04\n",
      "  -8.79697967e-04   6.12363976e-04  -3.93285323e-03  -2.90247262e-04\n",
      "   1.74744142e-04   2.93309591e-03  -1.01912732e-03  -2.46002944e-03\n",
      "  -4.55856696e-03   3.43563897e-03   4.76202276e-03  -1.52799569e-03\n",
      "  -1.56259420e-03   1.87035603e-03  -1.82380900e-03   1.60518102e-04\n",
      "   2.41857441e-03   8.84613255e-04  -3.10384319e-03   4.10918286e-03\n",
      "  -1.98916113e-03  -3.84658622e-03   3.74898547e-03  -2.80795619e-03\n",
      "   2.10922305e-03   8.04105075e-05   6.20569743e-04   1.68764964e-03\n",
      "   4.42662602e-03  -4.66924906e-03  -8.77304992e-05  -4.38166462e-04\n",
      "   3.13692912e-03  -1.89708243e-03   2.54944246e-03  -2.99028645e-04\n",
      "   1.77820690e-03  -2.08658865e-03   2.76297540e-03   4.49552387e-03\n",
      "   3.29414179e-04  -2.19182391e-03  -1.31254131e-03  -2.97810673e-03\n",
      "  -3.78472541e-05   4.53857426e-03  -2.72659672e-04  -4.02705558e-03]\n"
     ]
    },
    {
     "name": "stderr",
     "output_type": "stream",
     "text": [
      "C:\\Users\\lenovo-pc\\Anaconda3\\lib\\site-packages\\ipykernel_launcher.py:11: DeprecationWarning: Call to deprecated `__getitem__` (Method will be removed in 4.0.0, use self.wv.__getitem__() instead).\n",
      "  # This is added back by InteractiveShellApp.init_path()\n"
     ]
    }
   ],
   "source": [
    "df = df.loc[df['treatments'].notnull()]\n",
    "temp_df=df.head(5)\n",
    "temp_df.head(3)\n",
    "sentences=temp_df[\"text\"]\n",
    "#code for word embeddings\n",
    "tokens =sentences.apply(nltk.word_tokenize)\n",
    "print(tokens)\n",
    "model = Word2Vec(tokens,min_count=1)\n",
    "print(model)\n",
    "words = list(model.wv.vocab)\n",
    "print(words)\n",
    "print(model['tinnitus'])"
   ]
  },
  {
   "cell_type": "code",
   "execution_count": 25,
   "metadata": {
    "collapsed": true
   },
   "outputs": [],
   "source": [
    "df.to_csv(\"out.csv\")"
   ]
  },
  {
   "cell_type": "code",
   "execution_count": 26,
   "metadata": {
    "collapsed": true,
    "scrolled": false
   },
   "outputs": [],
   "source": [
    "treatment_counts = Counter()\n",
    "word_counts = Counter()\n",
    "for row in df.itertuples():\n",
    "    treatment_counts += Counter(row[5])\n",
    "    word_counts += Counter(row[6])"
   ]
  },
  {
   "cell_type": "raw",
   "metadata": {},
   "source": []
  },
  {
   "cell_type": "code",
   "execution_count": null,
   "metadata": {
    "collapsed": true
   },
   "outputs": [],
   "source": []
  }
 ],
 "metadata": {
  "kernelspec": {
   "display_name": "Python 3",
   "language": "python",
   "name": "python3"
  },
  "language_info": {
   "codemirror_mode": {
    "name": "ipython",
    "version": 3
   },
   "file_extension": ".py",
   "mimetype": "text/x-python",
   "name": "python",
   "nbconvert_exporter": "python",
   "pygments_lexer": "ipython3",
   "version": "3.6.3"
  }
 },
 "nbformat": 4,
 "nbformat_minor": 2
}
