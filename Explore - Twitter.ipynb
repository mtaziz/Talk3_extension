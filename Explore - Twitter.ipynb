{
 "cells": [
  {
   "cell_type": "code",
   "execution_count": null,
   "metadata": {},
   "outputs": [],
   "source": [
    "import pandas\n",
    "import itertools as it\n",
    "import string\n",
    "from collections import Counter\n",
    "import json\n",
    "import re\n",
    "import numpy\n",
    "from sklearn.externals import joblib"
   ]
  },
  {
   "cell_type": "code",
   "execution_count": null,
   "metadata": {},
   "outputs": [],
   "source": [
    "with open('data/stopwords.txt') as fh:\n",
    "    stopwords = set(fh.read().splitlines())"
   ]
  },
  {
   "cell_type": "code",
   "execution_count": null,
   "metadata": {},
   "outputs": [],
   "source": [
    "clf = joblib.load('data/twitter_classifier_best.pkl')"
   ]
  },
  {
   "cell_type": "code",
   "execution_count": null,
   "metadata": {},
   "outputs": [],
   "source": [
    "embeddings = {}\n",
    "with open('data/glove.twitter.27B.25d.txt') as fh:\n",
    "    for line in fh:\n",
    "        line = line.strip().split(\" \")\n",
    "        embeddings[line[0]] = [float(t) for t in line[1:]]"
   ]
  },
  {
   "cell_type": "code",
   "execution_count": null,
   "metadata": {},
   "outputs": [],
   "source": [
    "def normalise(text):\n",
    "    \n",
    "    text = text.lower()\n",
    "    text = text.replace(\"\\n\", \" \")\n",
    "    text = re.sub(r\"https?:\\/\\/\\S+\\b|www\\.(\\w+\\.)+\\S*\", \" <url> \", text)\n",
    "    text = text.replace(\"/\", \" / \")\n",
    "    text = re.sub(r\"@\\w+\", \" <user> \", text)\n",
    "    text = re.sub(r\"[8:=;]['`\\-][)d]+|[)d]+['`\\-][8:=;]\", \" <smile> \", text)\n",
    "    text = re.sub(r\"[8:=;]['`\\-]p+\", \" <lolface> \", text)\n",
    "    text = re.sub(r\"[8:=;]['`\\-]\\(+|\\)+['`\\-][8:=;]\", \" <sadface> \", text)\n",
    "    text = re.sub(r\"[8:=;]['`\\-][\\/|l*]\", \" <neutralface> \", text)\n",
    "    text = text.replace(r\"<3\", \" <heart> \")\n",
    "    text = re.sub(r\"[-+]?[.\\d]*[\\d]+[:,.\\d]*\", \" <number> \", text)\n",
    "    text = text.replace(r\"#\", \" <hashtag> \")\n",
    "    text = re.sub(r\"([!?.,()])+\", r\" \\1 \", text)\n",
    "    \n",
    "    return text"
   ]
  },
  {
   "cell_type": "code",
   "execution_count": null,
   "metadata": {},
   "outputs": [],
   "source": [
    "def tokenise(text):\n",
    "    return tuple([t.strip() for t in text.strip().split()])"
   ]
  },
  {
   "cell_type": "code",
   "execution_count": null,
   "metadata": {},
   "outputs": [],
   "source": [
    "def parse_treatment_definitons(definion_file):\n",
    "    treatment_set = set()\n",
    "    treatment_mapping = {}\n",
    "    max_length = 1\n",
    "    for line in definion_file:\n",
    "        line = line.strip()\n",
    "        treatments = line.split(',')\n",
    "        name = treatments[0]\n",
    "        for treatment in treatments:\n",
    "            treatment = tuple(tokenise(normalise(treatment)))\n",
    "            max_length = max(len(treatment), max_length)\n",
    "            treatment_set.add(treatment)\n",
    "            treatment_mapping[treatment] = name\n",
    "    return treatment_set, treatment_mapping, max_length"
   ]
  },
  {
   "cell_type": "code",
   "execution_count": null,
   "metadata": {},
   "outputs": [],
   "source": [
    "def window_sliding(iterable, n):\n",
    "    gens = (\n",
    "        it.chain(it.repeat(None, n - 1 - i), iterable, it.repeat(None, i))\n",
    "        for i, gen in enumerate(it.tee(iterable, n)))\n",
    "    return zip(*gens)\n",
    "\n",
    "def find_treatments(tokens):\n",
    "    found_treatments = []\n",
    "    for x in range(max_treatment_length, 0, -1):\n",
    "        for window in window_sliding(tokens, x):\n",
    "            if tuple(window) in treatment_set:\n",
    "                found_treatments.append(treatment_mapping[tuple(window)])\n",
    "    return list(set(found_treatments)) or None"
   ]
  },
  {
   "cell_type": "code",
   "execution_count": null,
   "metadata": {},
   "outputs": [],
   "source": [
    "def filter_stopwords(tokens):\n",
    "    return [t for t in tokens if len(t) > 2 and t not in stopwords]"
   ]
  },
  {
   "cell_type": "code",
   "execution_count": null,
   "metadata": {},
   "outputs": [],
   "source": [
    "def calculate_embeddings(tokens):\n",
    "    token_embdgs = [embeddings.get(t) for t in tokens]\n",
    "    token_embdgs = [t for t in token_embdgs if t is not None]\n",
    "    return numpy.mean(token_embdgs, axis=0)"
   ]
  },
  {
   "cell_type": "code",
   "execution_count": null,
   "metadata": {},
   "outputs": [],
   "source": [
    "with open('tweets.jsonl', 'r') as fh:\n",
    "    df = pandas.read_json(fh.read(), lines=True, convert_dates=True)"
   ]
  },
  {
   "cell_type": "code",
   "execution_count": null,
   "metadata": {},
   "outputs": [],
   "source": [
    "df = df.loc[(df['retweeted_status'].isnull()) & (df['lang'] == \"en\")]"
   ]
  },
  {
   "cell_type": "code",
   "execution_count": null,
   "metadata": {},
   "outputs": [],
   "source": [
    "df = df.loc[(df.created_at >= \"2017-12-04\") & (df.created_at <= \"2018-02-03\")]"
   ]
  },
  {
   "cell_type": "code",
   "execution_count": null,
   "metadata": {},
   "outputs": [],
   "source": [
    "df[\"created_at\"].groupby(df.created_at.dt.weekofyear).count()"
   ]
  },
  {
   "cell_type": "code",
   "execution_count": null,
   "metadata": {},
   "outputs": [],
   "source": [
    "df[\"extended_tweet\"] = df[\"extended_tweet\"].apply(lambda x: x[\"full_text\"]  if type(x) == dict else x )"
   ]
  },
  {
   "cell_type": "code",
   "execution_count": null,
   "metadata": {},
   "outputs": [],
   "source": [
    "df[\"text\"] = df[\"extended_tweet\"].combine_first(df[\"text\"])"
   ]
  },
  {
   "cell_type": "code",
   "execution_count": null,
   "metadata": {},
   "outputs": [],
   "source": [
    "df[\"text\"] = df[\"text\"].apply(lambda x: x.replace(\"\\n\", \" \"))"
   ]
  },
  {
   "cell_type": "code",
   "execution_count": null,
   "metadata": {},
   "outputs": [],
   "source": [
    "df[\"user_name\"] = df[\"user\"].apply(lambda x: x[\"screen_name\"])"
   ]
  },
  {
   "cell_type": "code",
   "execution_count": null,
   "metadata": {},
   "outputs": [],
   "source": [
    "df = df.loc[:, [\"id\", \"created_at\", \"text\", \"retweet_count\", \"user_name\"]]"
   ]
  },
  {
   "cell_type": "code",
   "execution_count": null,
   "metadata": {},
   "outputs": [],
   "source": [
    "df[\"tokens\"] = df[\"text\"].apply(lambda x: tokenise(normalise(x)))"
   ]
  },
  {
   "cell_type": "code",
   "execution_count": null,
   "metadata": {},
   "outputs": [],
   "source": []
  },
  {
   "cell_type": "code",
   "execution_count": null,
   "metadata": {},
   "outputs": [],
   "source": [
    "len(df.user_name.unique())"
   ]
  },
  {
   "cell_type": "code",
   "execution_count": null,
   "metadata": {},
   "outputs": [],
   "source": [
    "treatment_set, treatment_mapping, max_treatment_length = parse_treatment_definitons(open(\"data/treatment_definitons.txt\", 'r'))"
   ]
  },
  {
   "cell_type": "code",
   "execution_count": null,
   "metadata": {},
   "outputs": [],
   "source": [
    "df['filtered_tokens'] = df['tokens'].apply(filter_stopwords)"
   ]
  },
  {
   "cell_type": "code",
   "execution_count": null,
   "metadata": {},
   "outputs": [],
   "source": [
    "word_counts = Counter()\n",
    "for elem in df[\"filtered_tokens\"]:\n",
    "    word_counts += Counter(elem)"
   ]
  },
  {
   "cell_type": "code",
   "execution_count": null,
   "metadata": {},
   "outputs": [],
   "source": [
    "word_counts.most_common(100)"
   ]
  },
  {
   "cell_type": "code",
   "execution_count": null,
   "metadata": {},
   "outputs": [],
   "source": [
    "df['treatments'] = df['tokens'].apply(find_treatments)"
   ]
  },
  {
   "cell_type": "code",
   "execution_count": null,
   "metadata": {},
   "outputs": [],
   "source": [
    "df = df.loc[df['treatments'].notnull()]"
   ]
  },
  {
   "cell_type": "code",
   "execution_count": null,
   "metadata": {},
   "outputs": [],
   "source": [
    "df['prediction'] = df['text'].apply(lambda t: clf.predict([calculate_embeddings(t)])[0])"
   ]
  },
  {
   "cell_type": "code",
   "execution_count": null,
   "metadata": {},
   "outputs": [],
   "source": [
    "df['prediction'].groupby(df.prediction).count()"
   ]
  },
  {
   "cell_type": "code",
   "execution_count": null,
   "metadata": {},
   "outputs": [],
   "source": [
    "unique_text_counts = df[\"tokens\"].groupby(df.tokens).count().sort_values(ascending=False).values"
   ]
  },
  {
   "cell_type": "code",
   "execution_count": null,
   "metadata": {
    "scrolled": true
   },
   "outputs": [],
   "source": [
    "unique_text_counts.mean()"
   ]
  },
  {
   "cell_type": "code",
   "execution_count": null,
   "metadata": {
    "scrolled": true
   },
   "outputs": [],
   "source": [
    "numpy.median(unique_text_counts)"
   ]
  },
  {
   "cell_type": "code",
   "execution_count": null,
   "metadata": {},
   "outputs": [],
   "source": [
    "len(df.user_name.unique())"
   ]
  },
  {
   "cell_type": "code",
   "execution_count": null,
   "metadata": {},
   "outputs": [],
   "source": [
    "df.to_csv(\"tweets_with_treatments.csv\")"
   ]
  },
  {
   "cell_type": "code",
   "execution_count": null,
   "metadata": {
    "scrolled": false
   },
   "outputs": [],
   "source": [
    "treatment_counts = Counter()\n",
    "for elem in df[\"treatments\"]:\n",
    "    treatment_counts += Counter(elem)"
   ]
  },
  {
   "cell_type": "code",
   "execution_count": null,
   "metadata": {},
   "outputs": [],
   "source": [
    "treatment_counts.most_common(100)"
   ]
  }
 ],
 "metadata": {
  "kernelspec": {
   "display_name": "Python 3",
   "language": "python",
   "name": "python3"
  },
  "language_info": {
   "codemirror_mode": {
    "name": "ipython",
    "version": 3
   },
   "file_extension": ".py",
   "mimetype": "text/x-python",
   "name": "python",
   "nbconvert_exporter": "python",
   "pygments_lexer": "ipython3",
   "version": "3.5.2"
  }
 },
 "nbformat": 4,
 "nbformat_minor": 2
}
