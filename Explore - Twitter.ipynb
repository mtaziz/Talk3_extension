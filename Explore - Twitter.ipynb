{
 "cells": [
  {
   "cell_type": "code",
   "execution_count": null,
   "metadata": {},
   "outputs": [],
   "source": [
    "import pandas as pd\n",
    "import itertools as it\n",
    "import string\n",
    "from collections import Counter\n",
    "import json\n",
    "import re\n",
    "import numpy\n",
    "import spacy"
   ]
  },
  {
   "cell_type": "code",
   "execution_count": null,
   "metadata": {},
   "outputs": [],
   "source": [
    "with open('data/stopwords.txt') as fh:\n",
    "    stopwords = set(fh.read().splitlines())"
   ]
  },
  {
   "cell_type": "code",
   "execution_count": null,
   "metadata": {},
   "outputs": [],
   "source": [
    "spacy_nlp = spacy.load(\"en_core_web_lg\")"
   ]
  },
  {
   "cell_type": "code",
   "execution_count": null,
   "metadata": {},
   "outputs": [],
   "source": [
    "def normalise(text):\n",
    "    \n",
    "    text = text.lower()\n",
    "    text = text.replace(\"\\n\", \" \")\n",
    "    text = re.sub(r\"https?:\\/\\/\\S+\\b|www\\.(\\w+\\.)+\\S*\", \" <url> \", text)\n",
    "    text = text.replace(\"/\", \" / \")\n",
    "    text = re.sub(r\"@\\w+\", \" <user> \", text)\n",
    "    text = re.sub(r\"[8:=;]['`\\-][)d]+|[)d]+['`\\-][8:=;]\", \" <smile> \", text)\n",
    "    text = re.sub(r\"[8:=;]['`\\-]p+\", \" <lolface> \", text)\n",
    "    text = re.sub(r\"[8:=;]['`\\-]\\(+|\\)+['`\\-][8:=;]\", \" <sadface> \", text)\n",
    "    text = re.sub(r\"[8:=;]['`\\-][\\/|l*]\", \" <neutralface> \", text)\n",
    "    text = text.replace(r\"<3\", \" <heart> \")\n",
    "    text = re.sub(r\"[-+]?[.\\d]*[\\d]+[:,.\\d]*\", \" <number> \", text)\n",
    "    text = text.replace(r\"#\", \" <hashtag> \")\n",
    "    text = re.sub(r\"([!?.,()])+\", r\" \\1 \", text)\n",
    "    \n",
    "    return text"
   ]
  },
  {
   "cell_type": "code",
   "execution_count": null,
   "metadata": {},
   "outputs": [],
   "source": [
    "def tokenise(text):\n",
    "    return [t.strip() for t in text.strip().split()]"
   ]
  },
  {
   "cell_type": "code",
   "execution_count": null,
   "metadata": {},
   "outputs": [],
   "source": [
    "def parse_treatment_definitons(definion_file):\n",
    "    treatment_set = set()\n",
    "    treatment_mapping = {}\n",
    "    max_length = 1\n",
    "    for line in definion_file:\n",
    "        line = line.strip()\n",
    "        treatments = line.split(',')\n",
    "        name = treatments[0]\n",
    "        for treatment in treatments:\n",
    "            treatment = tuple(tokenise(normalise(treatment)))\n",
    "            max_length = max(len(treatment), max_length)\n",
    "            treatment_set.add(treatment)\n",
    "            treatment_mapping[treatment] = name\n",
    "    return treatment_set, treatment_mapping, max_length"
   ]
  },
  {
   "cell_type": "code",
   "execution_count": null,
   "metadata": {},
   "outputs": [],
   "source": [
    "def window_sliding(iterable, n):\n",
    "    gens = (\n",
    "        it.chain(it.repeat(None, n - 1 - i), iterable, it.repeat(None, i))\n",
    "        for i, gen in enumerate(it.tee(iterable, n)))\n",
    "    return zip(*gens)\n",
    "\n",
    "def find_treatments(tokens):\n",
    "    found_treatments = []\n",
    "    for x in range(max_treatment_length, 0, -1):\n",
    "        for window in window_sliding(tokens, x):\n",
    "            if tuple(window) in treatment_set:\n",
    "                found_treatments.append(treatment_mapping[tuple(window)])\n",
    "    return list(set(found_treatments)) or None"
   ]
  },
  {
   "cell_type": "code",
   "execution_count": null,
   "metadata": {},
   "outputs": [],
   "source": [
    "def filter_stopwords(tokens):\n",
    "    return [t for t in tokens if len(t) > 2 and t not in stopwords]"
   ]
  },
  {
   "cell_type": "code",
   "execution_count": null,
   "metadata": {},
   "outputs": [],
   "source": [
    "def calculate_embeddings(tokens):\n",
    "    token_embdgs = [embeddings.get(t) for t in tokens]\n",
    "    token_embdgs = [t for t in token_embdgs if t is not None]\n",
    "    return numpy.mean(token_embdgs, axis=0)"
   ]
  },
  {
   "cell_type": "code",
   "execution_count": null,
   "metadata": {},
   "outputs": [],
   "source": [
    "def add_pos_tags(df):\n",
    "    tokens = []\n",
    "    pos = []\n",
    "    tag = []\n",
    "\n",
    "    for doc in spacy_nlp.pipe(df['text'].astype('unicode').values, batch_size=50, n_threads=3):\n",
    "        if doc.is_parsed:\n",
    "            tokens.append([n.text for n in doc])\n",
    "            pos.append([n.pos_ for n in doc])\n",
    "            tag.append([n.tag_ for n in doc])\n",
    "        else:\n",
    "            tokens.append(None)\n",
    "            pos.append(None)\n",
    "            tag.append(None)\n",
    "\n",
    "    df['tokens'] = tokens\n",
    "    df['pos'] = pos\n",
    "    df['tag'] = tag\n",
    "    return df"
   ]
  },
  {
   "cell_type": "code",
   "execution_count": null,
   "metadata": {},
   "outputs": [],
   "source": [
    "with open('data/tweets.jsonl', 'r') as fh:\n",
    "    df = pd.read_json(fh.read(), lines=True, convert_dates=True)"
   ]
  },
  {
   "cell_type": "code",
   "execution_count": null,
   "metadata": {},
   "outputs": [],
   "source": [
    "df = df.loc[(df['retweeted_status'].isnull()) & (df['lang'] == \"en\")]"
   ]
  },
  {
   "cell_type": "code",
   "execution_count": null,
   "metadata": {},
   "outputs": [],
   "source": [
    "df = df.loc[(df.created_at >= \"2017-12-04\") & (df.created_at <= \"2018-02-03\")]"
   ]
  },
  {
   "cell_type": "code",
   "execution_count": null,
   "metadata": {},
   "outputs": [],
   "source": [
    "df[\"extended_tweet\"] = df[\"extended_tweet\"].apply(lambda x: x[\"full_text\"]  if type(x) == dict else x )"
   ]
  },
  {
   "cell_type": "code",
   "execution_count": null,
   "metadata": {},
   "outputs": [],
   "source": [
    "df[\"text\"] = df[\"extended_tweet\"].combine_first(df[\"text\"])"
   ]
  },
  {
   "cell_type": "code",
   "execution_count": null,
   "metadata": {},
   "outputs": [],
   "source": [
    "df[\"text\"] = df[\"text\"].apply(lambda x: normalise(x).replace(\"\\n\", \" \"))"
   ]
  },
  {
   "cell_type": "code",
   "execution_count": null,
   "metadata": {},
   "outputs": [],
   "source": [
    "df[\"user_name\"] = df[\"user\"].apply(lambda x: x[\"screen_name\"])"
   ]
  },
  {
   "cell_type": "code",
   "execution_count": null,
   "metadata": {},
   "outputs": [],
   "source": [
    "df = df.loc[:, [\"id\", \"created_at\", \"text\", \"retweet_count\", \"user_name\"]]"
   ]
  },
  {
   "cell_type": "code",
   "execution_count": null,
   "metadata": {},
   "outputs": [],
   "source": [
    "df = add_pos_tags(df)"
   ]
  },
  {
   "cell_type": "code",
   "execution_count": null,
   "metadata": {},
   "outputs": [],
   "source": [
    "noun_tags = {\"NN\", \"NNS\", \"NNP\", \"NNPS\"}\n",
    "adj_tags = {\"JJ\", \"JJR\", \"JJS\"}\n",
    "nouns = Counter()\n",
    "adjectives = Counter()\n",
    "for _, row in df.iterrows():\n",
    "    tokens = row[\"tokens\"]\n",
    "    tags = row[\"tag\"]\n",
    "    for cnt, tag in enumerate(tags):\n",
    "        if tag in noun_tags:\n",
    "            nouns[tokens[cnt]] += 1\n",
    "        if tag in adj_tags:\n",
    "            adjectives[tokens[cnt]] += 1"
   ]
  },
  {
   "cell_type": "code",
   "execution_count": null,
   "metadata": {},
   "outputs": [],
   "source": [
    "nouns.most_common()"
   ]
  },
  {
   "cell_type": "code",
   "execution_count": null,
   "metadata": {},
   "outputs": [],
   "source": [
    "adjectives.most_common()"
   ]
  },
  {
   "cell_type": "code",
   "execution_count": null,
   "metadata": {},
   "outputs": [],
   "source": [
    "with open(\"data/nouns_twitter.json\", 'w') as fh:\n",
    "    json.dump(nouns, fh)\n",
    "with open(\"data/adjectives_twitter.json\", 'w') as fh:\n",
    "    json.dump(adjectives, fh)"
   ]
  },
  {
   "cell_type": "code",
   "execution_count": null,
   "metadata": {},
   "outputs": [],
   "source": [
    "df[\"tokens\"] = df[\"text\"].apply(lambda x: tokenise(normalise(x)))"
   ]
  },
  {
   "cell_type": "code",
   "execution_count": null,
   "metadata": {},
   "outputs": [],
   "source": [
    "len(df.user_name.unique())"
   ]
  },
  {
   "cell_type": "code",
   "execution_count": null,
   "metadata": {},
   "outputs": [],
   "source": [
    "treatment_set, treatment_mapping, max_treatment_length = parse_treatment_definitons(open(\"data/treatment_definitons.txt\", 'r'))"
   ]
  },
  {
   "cell_type": "code",
   "execution_count": null,
   "metadata": {},
   "outputs": [],
   "source": [
    "df['filtered_tokens'] = df['tokens'].apply(filter_stopwords)"
   ]
  },
  {
   "cell_type": "code",
   "execution_count": null,
   "metadata": {},
   "outputs": [],
   "source": [
    "word_counts = Counter()\n",
    "for elem in df[\"filtered_tokens\"]:\n",
    "    word_counts += Counter(elem)"
   ]
  },
  {
   "cell_type": "code",
   "execution_count": null,
   "metadata": {},
   "outputs": [],
   "source": [
    "word_counts.most_common(1)"
   ]
  },
  {
   "cell_type": "code",
   "execution_count": null,
   "metadata": {},
   "outputs": [],
   "source": [
    "df['treatments'] = df['tokens'].apply(find_treatments)"
   ]
  },
  {
   "cell_type": "code",
   "execution_count": null,
   "metadata": {},
   "outputs": [],
   "source": [
    "df = df.loc[df['treatments'].notnull()]"
   ]
  },
  {
   "cell_type": "code",
   "execution_count": null,
   "metadata": {},
   "outputs": [],
   "source": [
    "len(df.user_name.unique())"
   ]
  },
  {
   "cell_type": "code",
   "execution_count": null,
   "metadata": {},
   "outputs": [],
   "source": [
    "df.to_csv(\"tweets_with_treatments.csv\")"
   ]
  },
  {
   "cell_type": "code",
   "execution_count": null,
   "metadata": {
    "scrolled": false
   },
   "outputs": [],
   "source": [
    "treatment_counts = Counter()\n",
    "for elem in df[\"treatments\"]:\n",
    "    treatment_counts += Counter(elem)"
   ]
  },
  {
   "cell_type": "code",
   "execution_count": null,
   "metadata": {},
   "outputs": [],
   "source": [
    "new_df_twitter=pd.DataFrame(treatment_counts.most_common(100))"
   ]
  },
  {
   "cell_type": "code",
   "execution_count": null,
   "metadata": {},
   "outputs": [],
   "source": [
    "new_df_twitter"
   ]
  },
  {
   "cell_type": "code",
   "execution_count": null,
   "metadata": {},
   "outputs": [],
   "source": [
    "new_df_twitter.columns= ['keyword','count']"
   ]
  },
  {
   "cell_type": "code",
   "execution_count": null,
   "metadata": {},
   "outputs": [],
   "source": [
    "new_df_twitter"
   ]
  },
  {
   "cell_type": "code",
   "execution_count": null,
   "metadata": {},
   "outputs": [],
   "source": [
    "new_df_twitter.info()\n"
   ]
  },
  {
   "cell_type": "code",
   "execution_count": null,
   "metadata": {},
   "outputs": [],
   "source": [
    "new_df_twitter.to_pickle('Twitter_counts.pkl') "
   ]
  },
  {
   "cell_type": "code",
   "execution_count": null,
   "metadata": {},
   "outputs": [],
   "source": [
    "new_df_TT = pd.read_pickle('TT_counts.pkl')"
   ]
  },
  {
   "cell_type": "code",
   "execution_count": null,
   "metadata": {},
   "outputs": [],
   "source": [
    "new_df_TT.columns= ['keyword','count']\n",
    "new_df_TT"
   ]
  },
  {
   "cell_type": "code",
   "execution_count": null,
   "metadata": {},
   "outputs": [],
   "source": [
    "pd.concat([new_df_TT, new_df_twitter], axis=1)"
   ]
  },
  {
   "cell_type": "code",
   "execution_count": null,
   "metadata": {},
   "outputs": [],
   "source": [
    "new_df_all= pd.merge(new_df_TT, new_df_twitter, how='outer', on= 'keyword')\n"
   ]
  },
  {
   "cell_type": "code",
   "execution_count": null,
   "metadata": {},
   "outputs": [],
   "source": [
    "#get the numbers to distinct mentions of substances in TT and twitter\n",
    "#NAN indicates no mention, x=TT , y=Twitter\n",
    "\n",
    "\n",
    "new_df_all[new_df_all.isnull().any(axis=1)]\n",
    "new_df_all.to_csv(\"forums_difference.csv\")"
   ]
  },
  {
   "cell_type": "code",
   "execution_count": null,
   "metadata": {},
   "outputs": [],
   "source": [
    "new_df_common=pd.merge(new_df_TT, new_df_twitter, how='inner', on= 'keyword')\n",
    "new_df_common\n",
    "TT_count_common = sum(new_df_common['count_x'])\n",
    "Twitter_count_common=sum(new_df_common['count_y'])"
   ]
  },
  {
   "cell_type": "code",
   "execution_count": null,
   "metadata": {},
   "outputs": [],
   "source": [
    "TT_count_common\n"
   ]
  },
  {
   "cell_type": "code",
   "execution_count": null,
   "metadata": {},
   "outputs": [],
   "source": [
    "new_df_common"
   ]
  },
  {
   "cell_type": "code",
   "execution_count": null,
   "metadata": {},
   "outputs": [],
   "source": []
  },
  {
   "cell_type": "code",
   "execution_count": null,
   "metadata": {},
   "outputs": [],
   "source": [
    "#get relative counts with respect to the total mentions in each of the forum\n",
    "\n",
    "#added  * 100 to  see if any difference in the stats score\n",
    "#however no diffrence ( *100 can also be removed)\n",
    "new_df_common['new_TT'] = new_df_common['count_x']*100 /  new_df_common['count_x'].sum()\n",
    "new_df_common['new_Tw'] = new_df_common['count_y'] *100/  new_df_common['count_y'].sum()"
   ]
  },
  {
   "cell_type": "code",
   "execution_count": null,
   "metadata": {},
   "outputs": [],
   "source": [
    "new_df_common\n"
   ]
  },
  {
   "cell_type": "code",
   "execution_count": null,
   "metadata": {},
   "outputs": [],
   "source": [
    "new_df_common['count_x'].sum()"
   ]
  },
  {
   "cell_type": "code",
   "execution_count": null,
   "metadata": {},
   "outputs": [],
   "source": [
    "new_df_common\n"
   ]
  },
  {
   "cell_type": "code",
   "execution_count": null,
   "metadata": {},
   "outputs": [],
   "source": [
    "from scipy.stats import ttest_ind, ttest_ind_from_stats\n",
    "t, p = ttest_ind(new_df_common['new_TT'], new_df_common['new_Tw'])\n",
    "print(t)\n",
    "print(p)"
   ]
  },
  {
   "cell_type": "code",
   "execution_count": null,
   "metadata": {},
   "outputs": [],
   "source": [
    "from scipy.stats import ttest_ind\n",
    "ttest_ind(new_df_common['new_TT'].values,new_df_common['new_Tw'].values)"
   ]
  },
  {
   "cell_type": "code",
   "execution_count": null,
   "metadata": {},
   "outputs": [],
   "source": [
    "new_df_common['new_TT'].values"
   ]
  },
  {
   "cell_type": "code",
   "execution_count": null,
   "metadata": {},
   "outputs": [],
   "source": [
    "type(new_df_common['new_TT'])"
   ]
  }
 ],
 "metadata": {
  "kernelspec": {
   "display_name": "Python 3",
   "language": "python",
   "name": "python3"
  },
  "language_info": {
   "codemirror_mode": {
    "name": "ipython",
    "version": 3
   },
   "file_extension": ".py",
   "mimetype": "text/x-python",
   "name": "python",
   "nbconvert_exporter": "python",
   "pygments_lexer": "ipython3",
   "version": "3.5.2"
  }
 },
 "nbformat": 4,
 "nbformat_minor": 2
}
