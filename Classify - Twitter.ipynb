{
 "cells": [
  {
   "cell_type": "code",
   "execution_count": null,
   "metadata": {},
   "outputs": [],
   "source": [
    "import pandas\n",
    "from sklearn import svm, metrics, model_selection\n",
    "import numpy\n",
    "import csv\n",
    "import re"
   ]
  },
  {
   "cell_type": "code",
   "execution_count": null,
   "metadata": {},
   "outputs": [],
   "source": [
    "embeddings = {}\n",
    "with open('data/glove.twitter.27B.25d.txt') as fh:\n",
    "    for line in fh:\n",
    "        line = line.strip().split(\" \")\n",
    "        embeddings[line[0]] = [float(t) for t in line[1:]]"
   ]
  },
  {
   "cell_type": "code",
   "execution_count": null,
   "metadata": {},
   "outputs": [],
   "source": [
    "def normalise(text):\n",
    "    \n",
    "    text = text.lower()\n",
    "    text = text.replace(\"\\n\", \" \")\n",
    "    text = re.sub(r\"https?:\\/\\/\\S+\\b|www\\.(\\w+\\.)+\\S*\", \" <url> \", text)\n",
    "    text = text.replace(\"/\", \" / \")\n",
    "    text = re.sub(r\"@\\w+\", \" <user> \", text)\n",
    "    text = re.sub(r\"[8:=;]['`\\-][)d]+|[)d]+['`\\-][8:=;]\", \" <smile> \", text)\n",
    "    text = re.sub(r\"[8:=;]['`\\-]p+\", \" <lolface> \", text)\n",
    "    text = re.sub(r\"[8:=;]['`\\-]\\(+|\\)+['`\\-][8:=;]\", \" <sadface> \", text)\n",
    "    text = re.sub(r\"[8:=;]['`\\-][\\/|l*]\", \" <neutralface> \", text)\n",
    "    text = text.replace(r\"<3\", \" <heart> \")\n",
    "    text = re.sub(r\"[-+]?[.\\d]*[\\d]+[:,.\\d]*\", \" <number> \", text)\n",
    "    text = text.replace(r\"#\", \" <hashtag> \")\n",
    "    text = re.sub(r\"([!?.,()])+\", r\" \\1 \", text)\n",
    "    \n",
    "    return text"
   ]
  },
  {
   "cell_type": "code",
   "execution_count": null,
   "metadata": {},
   "outputs": [],
   "source": [
    "def tokenise(text):\n",
    "    return [t.strip() for t in text.strip().split()]"
   ]
  },
  {
   "cell_type": "code",
   "execution_count": null,
   "metadata": {},
   "outputs": [],
   "source": [
    "def calculate_embeddings(text):\n",
    "    tokens = tokenise(normalise(text))\n",
    "    token_embdgs = [embeddings.get(t) for t in tokens]\n",
    "    token_embdgs = [t for t in token_embdgs if t is not None]\n",
    "    if len(token_embdgs) == 0:\n",
    "        print(text, tokens, token_embdgs)\n",
    "    return numpy.mean(token_embdgs, axis=0)"
   ]
  },
  {
   "cell_type": "code",
   "execution_count": null,
   "metadata": {},
   "outputs": [],
   "source": [
    "features = []\n",
    "labels = []\n",
    "\n",
    "with open(\"/home/johannes/talk3/Talk3_extension/data/twitter_annotated_full.csv\") as fh:\n",
    "    reader = csv.DictReader(fh)\n",
    "    for blop in reader:\n",
    "        labels.append(blop[\"sentiment\"])\n",
    "        features.append(calculate_embeddings(blop[\"text\"]))"
   ]
  },
  {
   "cell_type": "code",
   "execution_count": null,
   "metadata": {},
   "outputs": [],
   "source": [
    "set(labels)"
   ]
  },
  {
   "cell_type": "code",
   "execution_count": null,
   "metadata": {},
   "outputs": [],
   "source": [
    "features_train, features_test, labels_train, labels_test = model_selection.train_test_split(features, labels, test_size=0.25, random_state=0)"
   ]
  },
  {
   "cell_type": "code",
   "execution_count": null,
   "metadata": {},
   "outputs": [],
   "source": [
    "tuned_parameters = [{'kernel': ['rbf'], 'gamma': [1e-3, 1e-4], 'C': [0.1, 1, 10, 100, 1000, 10000, 100000]},\n",
    "                    {'kernel': ['linear'], 'C': [0.1, 1, 10, 100, 1000, 10000, 100000]},\n",
    "                    {'kernel': ['poly'], 'degree': [2, 3, 4,5], 'coef0': [0, 1], 'C': [0.1, 1, 10, 100, 1000, 1000, 10000, 100000]}]\n",
    "scores = ['f1']"
   ]
  },
  {
   "cell_type": "code",
   "execution_count": null,
   "metadata": {},
   "outputs": [],
   "source": [
    "for score in scores:\n",
    "    print(\"# Tuning hyper-parameters for %s\" % score)\n",
    "    print()\n",
    "\n",
    "    clf = model_selection.GridSearchCV(svm.SVC(class_weight=\"balanced\"), tuned_parameters, cv=model_selection.StratifiedKFold(n_splits=10),\n",
    "                       scoring='%s_macro' % score, n_jobs=-1)\n",
    "    clf.fit(features_train, labels_train)\n",
    "\n",
    "    print(\"Best parameters set found on development set:\")\n",
    "    print()\n",
    "    print(clf.best_params_)\n",
    "    print()\n",
    "    print(\"Grid scores on development set:\")\n",
    "    print()\n",
    "    means = clf.cv_results_['mean_test_score']\n",
    "    stds = clf.cv_results_['std_test_score']\n",
    "    for mean, std, params in zip(means, stds, clf.cv_results_['params']):\n",
    "        print(\"%0.3f (+/-%0.03f) for %r\"\n",
    "              % (mean, std * 2, params))\n",
    "    print()\n",
    "\n",
    "    print(\"Detailed classification report:\")\n",
    "    print()\n",
    "    print(\"The model is trained on the full development set.\")\n",
    "    print(\"The scores are computed on the full evaluation set.\")\n",
    "    print()\n",
    "    y_true, y_pred = labels_test, clf.predict(features_test)\n",
    "    print(metrics.classification_report(y_true, y_pred))\n",
    "    print()"
   ]
  }
 ],
 "metadata": {
  "kernelspec": {
   "display_name": "Python 3",
   "language": "python",
   "name": "python3"
  },
  "language_info": {
   "codemirror_mode": {
    "name": "ipython",
    "version": 3
   },
   "file_extension": ".py",
   "mimetype": "text/x-python",
   "name": "python",
   "nbconvert_exporter": "python",
   "pygments_lexer": "ipython3",
   "version": "3.5.2"
  }
 },
 "nbformat": 4,
 "nbformat_minor": 2
}
